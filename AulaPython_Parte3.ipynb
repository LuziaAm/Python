{
  "nbformat": 4,
  "nbformat_minor": 0,
  "metadata": {
    "colab": {
      "name": "AulaPython-Parte3.ipynb",
      "provenance": [],
      "collapsed_sections": [],
      "authorship_tag": "ABX9TyOXg1ylpLP5zUamPwO3ArtV",
      "include_colab_link": true
    },
    "kernelspec": {
      "name": "python3",
      "display_name": "Python 3"
    }
  },
  "cells": [
    {
      "cell_type": "markdown",
      "metadata": {
        "id": "view-in-github",
        "colab_type": "text"
      },
      "source": [
        "<a href=\"https://colab.research.google.com/github/LuziaAm/Python/blob/main/AulaPython_Parte3.ipynb\" target=\"_parent\"><img src=\"https://colab.research.google.com/assets/colab-badge.svg\" alt=\"Open In Colab\"/></a>"
      ]
    },
    {
      "cell_type": "code",
      "metadata": {
        "colab": {
          "base_uri": "https://localhost:8080/"
        },
        "id": "TwFZY4_eKllR",
        "outputId": "8c91ffb7-d6b0-4863-ef6e-124046e03683"
      },
      "source": [
        "# Declaração\r\n",
        "def converter_de_celsius_para_fahrenheit(celsius):\r\n",
        "  F = (9 * celsius / 5) + 32\r\n",
        "  print(f\"{celsius}ºC = {F}ºF\")\r\n",
        "\r\n",
        "# Execução\r\n",
        "converter_de_celsius_para_fahrenheit(0)\r\n",
        "\r\n",
        "# Declaração\r\n",
        "def converter_de_fahrenheit_para_celsius(fahrenheit):\r\n",
        "  C = 5 * (fahrenheit - 32) / 9\r\n",
        "  print(f\"{fahrenheit}ºF = {C}ºC\")\r\n",
        "\r\n",
        "# Execução\r\n",
        "converter_de_fahrenheit_para_celsius(32)\r\n",
        "\r\n",
        "# Deixando o usuário escolher o que quer fazer\r\n",
        "\r\n",
        "escolha_usuario = input(\"Você quer converter para qual escala? ('C' para Celsius ou 'F' para Fahrenheit)\\n\")\r\n",
        "\r\n",
        "if escolha_usuario == \"C\":\r\n",
        "  escala = \"F\"\r\n",
        "elif escolha_usuario == \"F\":\r\n",
        "  escala = \"C\"\r\n",
        "\r\n",
        "temperatura = float(input(f\"Digite o valor da temperatura, em º{escala}:\"))\r\n",
        "\r\n",
        "# print(escolha_usuario, type(escolha_usuario))\r\n",
        "# print(temperatura, type(temperatura))\r\n",
        "\r\n",
        "if escolha_usuario == \"C\":\r\n",
        "  # print(\"Usuário escolheu Celsius\")\r\n",
        "  # print(\"Converter usando a temperatura:\", temperatura)\r\n",
        "  converter_de_fahrenheit_para_celsius(temperatura) # Temperatura entra como argumento\r\n",
        "elif escolha_usuario == \"F\":\r\n",
        "  # print(\"Usuário escolheu Fahrenheit\")\r\n",
        "  # print(\"Converter usando a temperatura:\", temperatura)\r\n",
        "  converter_de_celsius_para_fahrenheit(temperatura) # Temperatura entra como argumento"
      ],
      "execution_count": 3,
      "outputs": [
        {
          "output_type": "stream",
          "text": [
            "0ºC = 32.0ºF\n",
            "32ºF = 0.0ºC\n",
            "Você quer converter para qual escala? ('C' para Celsius ou 'F' para Fahrenheit)\n",
            "F\n",
            "Digite o valor da temperatura, em ºC:32\n",
            "32.0ºC = 89.6ºF\n"
          ],
          "name": "stdout"
        }
      ]
    },
    {
      "cell_type": "code",
      "metadata": {
        "id": "kRDojgLWW1zl"
      },
      "source": [
        "# Deixando o usuário escolher o que quer fazer\r\n",
        "\r\n",
        "escolha_usuario = input(\"Você quer converter para qual escala? ('C' para Celsius ou 'F' para Fahrenheit)\\n\")\r\n",
        "\r\n",
        "if escolha_usuario == \"C\":\r\n",
        "  escala = \"F\"\r\n",
        "elif escolha_usuario == \"F\":\r\n",
        "  escala = \"C\"\r\n",
        "\r\n",
        "temperatura = float(input(f\"Digite o valor da temperatura, em º{escala}:\"))\r\n",
        "\r\n",
        "# print(escolha_usuario, type(escolha_usuario))\r\n",
        "# print(temperatura, type(temperatura))\r\n",
        "\r\n",
        "if escolha_usuario == \"C\":\r\n",
        "  # print(\"Usuário escolheu Celsius\")\r\n",
        "  # print(\"Converter usando a temperatura:\", temperatura)\r\n",
        "  converter_de_fahrenheit_para_celsius(temperatura) # Temperatura entra como argumento\r\n",
        "elif escolha_usuario == \"F\":\r\n",
        "  # print(\"Usuário escolheu Fahrenheit\")\r\n",
        "  # print(\"Converter usando a temperatura:\", temperatura)\r\n",
        "  converter_de_celsius_para_fahrenheit(temperatura) # Temperatura entra como argumento"
      ],
      "execution_count": null,
      "outputs": []
    },
    {
      "cell_type": "code",
      "metadata": {
        "colab": {
          "base_uri": "https://localhost:8080/"
        },
        "id": "p53CFQsjc6CI",
        "outputId": "f172fd80-99c9-47b0-9a69-27c01a8e66ae"
      },
      "source": [
        "def teste(a, b): # Parâmetro, que será o argumento recebido\r\n",
        "  print(\"Teste foi chamado\", a, b)\r\n",
        "\r\n",
        "teste(10, 20) # Argumento, que corresponde ao valor"
      ],
      "execution_count": 7,
      "outputs": [
        {
          "output_type": "stream",
          "text": [
            "Teste foi chamado 10 20\n"
          ],
          "name": "stdout"
        }
      ]
    },
    {
      "cell_type": "code",
      "metadata": {
        "colab": {
          "base_uri": "https://localhost:8080/"
        },
        "id": "A35x9jmhc8Wf",
        "outputId": "ed0bdd8f-52b1-46ac-a97d-e4c4ff2373ae"
      },
      "source": [
        "\r\n",
        "def soma(a, b):\r\n",
        "  # print(f\"{a} + {b} = {a + b}\")\r\n",
        "\r\n",
        "  return a + b\r\n",
        "\r\n",
        "print(5, type(5))\r\n",
        "print(10, type(10))\r\n",
        "print(\"soma(5, 10)\", soma(5, 10), type(soma(5, 10)))\r\n",
        "\r\n",
        "resultado_soma1 = soma(5, 10)\r\n",
        "print(\"resultado_soma1\", resultado_soma1, type(resultado_soma1))\r\n",
        "\r\n",
        "resultado_soma2 = soma(10, 20)\r\n",
        "print(\"resultado_soma2\", resultado_soma2, type(resultado_soma2))\r\n",
        "\r\n",
        "resultado_final = soma(resultado_soma1, resultado_soma2)\r\n",
        "print(\"resultado_final\", resultado_final)"
      ],
      "execution_count": 8,
      "outputs": [
        {
          "output_type": "stream",
          "text": [
            "5 <class 'int'>\n",
            "10 <class 'int'>\n",
            "soma(5, 10) 15 <class 'int'>\n",
            "resultado_soma1 15 <class 'int'>\n",
            "resultado_soma2 30 <class 'int'>\n",
            "resultado_final 45\n"
          ],
          "name": "stdout"
        }
      ]
    },
    {
      "cell_type": "code",
      "metadata": {
        "colab": {
          "base_uri": "https://localhost:8080/"
        },
        "id": "OD_yG73PdA7Y",
        "outputId": "2fcdbbe9-352c-4a84-e77a-0cd25bd63367"
      },
      "source": [
        "def calculadora(a, b):\r\n",
        "  return a + b\r\n",
        "\r\n",
        "def monitor(informacao):\r\n",
        "  print(informacao)\r\n",
        "\r\n",
        "def enviar_para_impressora(informacao):\r\n",
        "  print(\"Print Page A4:\", informacao)\r\n",
        "\r\n",
        "def programa():\r\n",
        "  resultado = calculcadora(10, 20)\r\n",
        "  enviar_para_monitor(resultado)\r\n",
        "\r\n",
        "  enviar_para_impressora(resultado)\r\n",
        "\r\n",
        "calculadora(2,3)"
      ],
      "execution_count": 10,
      "outputs": [
        {
          "output_type": "execute_result",
          "data": {
            "text/plain": [
              "5"
            ]
          },
          "metadata": {
            "tags": []
          },
          "execution_count": 10
        }
      ]
    },
    {
      "cell_type": "code",
      "metadata": {
        "id": "mSjG__codCXf"
      },
      "source": [
        "#Lista"
      ],
      "execution_count": null,
      "outputs": []
    }
  ]
}