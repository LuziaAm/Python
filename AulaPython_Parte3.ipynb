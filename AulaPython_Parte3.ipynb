{
  "nbformat": 4,
  "nbformat_minor": 0,
  "metadata": {
    "colab": {
      "name": "AulaPython-Parte3.ipynb",
      "provenance": [],
      "collapsed_sections": [],
      "authorship_tag": "ABX9TyOwuO42fCpcUerw1uQphnH9",
      "include_colab_link": true
    },
    "kernelspec": {
      "name": "python3",
      "display_name": "Python 3"
    }
  },
  "cells": [
    {
      "cell_type": "markdown",
      "metadata": {
        "id": "view-in-github",
        "colab_type": "text"
      },
      "source": [
        "<a href=\"https://colab.research.google.com/github/LuziaAm/Python/blob/main/AulaPython_Parte3.ipynb\" target=\"_parent\"><img src=\"https://colab.research.google.com/assets/colab-badge.svg\" alt=\"Open In Colab\"/></a>"
      ]
    },
    {
      "cell_type": "code",
      "metadata": {
        "colab": {
          "base_uri": "https://localhost:8080/"
        },
        "id": "TwFZY4_eKllR",
        "outputId": "8c91ffb7-d6b0-4863-ef6e-124046e03683"
      },
      "source": [
        "# Declaração\r\n",
        "def converter_de_celsius_para_fahrenheit(celsius):\r\n",
        "  F = (9 * celsius / 5) + 32\r\n",
        "  print(f\"{celsius}ºC = {F}ºF\")\r\n",
        "\r\n",
        "# Execução\r\n",
        "converter_de_celsius_para_fahrenheit(0)\r\n",
        "\r\n",
        "# Declaração\r\n",
        "def converter_de_fahrenheit_para_celsius(fahrenheit):\r\n",
        "  C = 5 * (fahrenheit - 32) / 9\r\n",
        "  print(f\"{fahrenheit}ºF = {C}ºC\")\r\n",
        "\r\n",
        "# Execução\r\n",
        "converter_de_fahrenheit_para_celsius(32)\r\n",
        "\r\n",
        "# Deixando o usuário escolher o que quer fazer\r\n",
        "\r\n",
        "escolha_usuario = input(\"Você quer converter para qual escala? ('C' para Celsius ou 'F' para Fahrenheit)\\n\")\r\n",
        "\r\n",
        "if escolha_usuario == \"C\":\r\n",
        "  escala = \"F\"\r\n",
        "elif escolha_usuario == \"F\":\r\n",
        "  escala = \"C\"\r\n",
        "\r\n",
        "temperatura = float(input(f\"Digite o valor da temperatura, em º{escala}:\"))\r\n",
        "\r\n",
        "# print(escolha_usuario, type(escolha_usuario))\r\n",
        "# print(temperatura, type(temperatura))\r\n",
        "\r\n",
        "if escolha_usuario == \"C\":\r\n",
        "  # print(\"Usuário escolheu Celsius\")\r\n",
        "  # print(\"Converter usando a temperatura:\", temperatura)\r\n",
        "  converter_de_fahrenheit_para_celsius(temperatura) # Temperatura entra como argumento\r\n",
        "elif escolha_usuario == \"F\":\r\n",
        "  # print(\"Usuário escolheu Fahrenheit\")\r\n",
        "  # print(\"Converter usando a temperatura:\", temperatura)\r\n",
        "  converter_de_celsius_para_fahrenheit(temperatura) # Temperatura entra como argumento"
      ],
      "execution_count": 3,
      "outputs": [
        {
          "output_type": "stream",
          "text": [
            "0ºC = 32.0ºF\n",
            "32ºF = 0.0ºC\n",
            "Você quer converter para qual escala? ('C' para Celsius ou 'F' para Fahrenheit)\n",
            "F\n",
            "Digite o valor da temperatura, em ºC:32\n",
            "32.0ºC = 89.6ºF\n"
          ],
          "name": "stdout"
        }
      ]
    },
    {
      "cell_type": "code",
      "metadata": {
        "id": "kRDojgLWW1zl"
      },
      "source": [
        "# Deixando o usuário escolher o que quer fazer\r\n",
        "\r\n",
        "escolha_usuario = input(\"Você quer converter para qual escala? ('C' para Celsius ou 'F' para Fahrenheit)\\n\")\r\n",
        "\r\n",
        "if escolha_usuario == \"C\":\r\n",
        "  escala = \"F\"\r\n",
        "elif escolha_usuario == \"F\":\r\n",
        "  escala = \"C\"\r\n",
        "\r\n",
        "temperatura = float(input(f\"Digite o valor da temperatura, em º{escala}:\"))\r\n",
        "\r\n",
        "# print(escolha_usuario, type(escolha_usuario))\r\n",
        "# print(temperatura, type(temperatura))\r\n",
        "\r\n",
        "if escolha_usuario == \"C\":\r\n",
        "  # print(\"Usuário escolheu Celsius\")\r\n",
        "  # print(\"Converter usando a temperatura:\", temperatura)\r\n",
        "  converter_de_fahrenheit_para_celsius(temperatura) # Temperatura entra como argumento\r\n",
        "elif escolha_usuario == \"F\":\r\n",
        "  # print(\"Usuário escolheu Fahrenheit\")\r\n",
        "  # print(\"Converter usando a temperatura:\", temperatura)\r\n",
        "  converter_de_celsius_para_fahrenheit(temperatura) # Temperatura entra como argumento"
      ],
      "execution_count": null,
      "outputs": []
    },
    {
      "cell_type": "code",
      "metadata": {
        "colab": {
          "base_uri": "https://localhost:8080/"
        },
        "id": "p53CFQsjc6CI",
        "outputId": "f172fd80-99c9-47b0-9a69-27c01a8e66ae"
      },
      "source": [
        "def teste(a, b): # Parâmetro, que será o argumento recebido\r\n",
        "  print(\"Teste foi chamado\", a, b)\r\n",
        "\r\n",
        "teste(10, 20) # Argumento, que corresponde ao valor"
      ],
      "execution_count": 7,
      "outputs": [
        {
          "output_type": "stream",
          "text": [
            "Teste foi chamado 10 20\n"
          ],
          "name": "stdout"
        }
      ]
    },
    {
      "cell_type": "code",
      "metadata": {
        "colab": {
          "base_uri": "https://localhost:8080/"
        },
        "id": "A35x9jmhc8Wf",
        "outputId": "ed0bdd8f-52b1-46ac-a97d-e4c4ff2373ae"
      },
      "source": [
        "\r\n",
        "def soma(a, b):\r\n",
        "  # print(f\"{a} + {b} = {a + b}\")\r\n",
        "\r\n",
        "  return a + b\r\n",
        "\r\n",
        "print(5, type(5))\r\n",
        "print(10, type(10))\r\n",
        "print(\"soma(5, 10)\", soma(5, 10), type(soma(5, 10)))\r\n",
        "\r\n",
        "resultado_soma1 = soma(5, 10)\r\n",
        "print(\"resultado_soma1\", resultado_soma1, type(resultado_soma1))\r\n",
        "\r\n",
        "resultado_soma2 = soma(10, 20)\r\n",
        "print(\"resultado_soma2\", resultado_soma2, type(resultado_soma2))\r\n",
        "\r\n",
        "resultado_final = soma(resultado_soma1, resultado_soma2)\r\n",
        "print(\"resultado_final\", resultado_final)"
      ],
      "execution_count": 8,
      "outputs": [
        {
          "output_type": "stream",
          "text": [
            "5 <class 'int'>\n",
            "10 <class 'int'>\n",
            "soma(5, 10) 15 <class 'int'>\n",
            "resultado_soma1 15 <class 'int'>\n",
            "resultado_soma2 30 <class 'int'>\n",
            "resultado_final 45\n"
          ],
          "name": "stdout"
        }
      ]
    },
    {
      "cell_type": "code",
      "metadata": {
        "colab": {
          "base_uri": "https://localhost:8080/"
        },
        "id": "OD_yG73PdA7Y",
        "outputId": "2fcdbbe9-352c-4a84-e77a-0cd25bd63367"
      },
      "source": [
        "def calculadora(a, b):\r\n",
        "  return a + b\r\n",
        "\r\n",
        "def monitor(informacao):\r\n",
        "  print(informacao)\r\n",
        "\r\n",
        "def enviar_para_impressora(informacao):\r\n",
        "  print(\"Print Page A4:\", informacao)\r\n",
        "\r\n",
        "def programa():\r\n",
        "  resultado = calculcadora(10, 20)\r\n",
        "  enviar_para_monitor(resultado)\r\n",
        "\r\n",
        "  enviar_para_impressora(resultado)\r\n",
        "\r\n",
        "calculadora(2,3)"
      ],
      "execution_count": 10,
      "outputs": [
        {
          "output_type": "execute_result",
          "data": {
            "text/plain": [
              "5"
            ]
          },
          "metadata": {
            "tags": []
          },
          "execution_count": 10
        }
      ]
    },
    {
      "cell_type": "code",
      "metadata": {
        "colab": {
          "base_uri": "https://localhost:8080/"
        },
        "id": "mSjG__codCXf",
        "outputId": "6ef1bc11-a244-4ac4-ff13-73bf4b67334b"
      },
      "source": [
        "#Lista\r\n",
        "# Lista\r\n",
        "\r\n",
        "#         Valores da lista\r\n",
        "numeros = [5, 9, 10, 20, 40, 80, 120, 300, 500, 900, 1000]\r\n",
        "# Índices [0, 1,  2,  3,  4,  5,   6]\r\n",
        "\r\n",
        "print(numeros, type(numeros))\r\n",
        "\r\n",
        "primeiro_numero = numeros[0]\r\n",
        "print(\"Primeiro número:\", primeiro_numero, type(primeiro_numero))\r\n",
        "\r\n",
        "quantidade_numeros = len(numeros)\r\n",
        "print(\"Quantidade de números:\", quantidade_numeros, type(quantidade_numeros))\r\n",
        "\r\n",
        "ultimo_indice = quantidade_numeros - 1\r\n",
        "ultimo_numero = numeros[ultimo_indice]\r\n",
        "print(\"Último número:\", ultimo_numero, type(ultimo_numero))"
      ],
      "execution_count": 11,
      "outputs": [
        {
          "output_type": "stream",
          "text": [
            "[5, 9, 10, 20, 40, 80, 120, 300, 500, 900, 1000] <class 'list'>\n",
            "Primeiro número: 5 <class 'int'>\n",
            "Quantidade de números: 11 <class 'int'>\n",
            "Último número: 1000 <class 'int'>\n"
          ],
          "name": "stdout"
        }
      ]
    },
    {
      "cell_type": "code",
      "metadata": {
        "colab": {
          "base_uri": "https://localhost:8080/"
        },
        "id": "rcvXGlx8i06Q",
        "outputId": "626f1b06-b1af-433e-aae6-3acba6eac89a"
      },
      "source": [
        "# Abreviando a maneira de pegar o último número\r\n",
        "\r\n",
        "numeros = [5, 9, 10, 20]\r\n",
        "#         [0, 1,  2,  3]\r\n",
        "\r\n",
        "ultimo_numero = numeros[len(numeros) - 1]\r\n",
        "print(\"Último número:\", ultimo_numero)\r\n",
        "\r\n",
        "# Podemos também remover o len() e deixar apenas o '-1' que o Python faz pra gente\r\n",
        "ultimo_numero = numeros[-1]\r\n",
        "print(\"Último número:\", ultimo_numero)"
      ],
      "execution_count": 12,
      "outputs": [
        {
          "output_type": "stream",
          "text": [
            "Último número: 20\n",
            "Último número: 20\n"
          ],
          "name": "stdout"
        }
      ]
    },
    {
      "cell_type": "code",
      "metadata": {
        "colab": {
          "base_uri": "https://localhost:8080/"
        },
        "id": "fEVlRlKii6eI",
        "outputId": "f85c7099-99ce-4a86-bbe1-876fd7ac5de6"
      },
      "source": [
        "# Mudando os valores de uma lista\r\n",
        "\r\n",
        "numeros = [5, 9, 10, 20]\r\n",
        "\r\n",
        "print(\"Primeiro número:\", numeros[0], numeros)\r\n",
        "print(\"Último número:\", numeros[-1], numeros)\r\n",
        "\r\n",
        "numeros[0] = 90\r\n",
        "\r\n",
        "print(\"Primeiro número alterado:\", numeros[0], numeros)\r\n",
        "\r\n",
        "numeros[-1] = 15\r\n",
        "\r\n",
        "print(\"Último número alterado:\", numeros[-1], numeros)"
      ],
      "execution_count": 14,
      "outputs": [
        {
          "output_type": "stream",
          "text": [
            "Primeiro número: 5 [5, 9, 10, 20]\n",
            "Último número: 20 [5, 9, 10, 20]\n",
            "Primeiro número alterado: 90 [90, 9, 10, 20]\n",
            "Último número alterado: 15 [90, 9, 10, 15]\n"
          ],
          "name": "stdout"
        }
      ]
    },
    {
      "cell_type": "code",
      "metadata": {
        "colab": {
          "base_uri": "https://localhost:8080/"
        },
        "id": "IkJOhY8-i_Gm",
        "outputId": "8c4ac114-d298-4aa5-d0ca-4f2f9ac265a8"
      },
      "source": [
        "numeros = [1, 11, 44, 67, 8, 9, 4]\r\n",
        "indice = int(input(\"Digite um índice: \"))\r\n",
        "\r\n",
        "numeros[indice] = 90\r\n",
        "\r\n",
        "print(numeros)"
      ],
      "execution_count": 21,
      "outputs": [
        {
          "output_type": "stream",
          "text": [
            "Digite um índice: 1\n",
            "[1, 90, 44, 67, 8, 9, 4]\n"
          ],
          "name": "stdout"
        }
      ]
    },
    {
      "cell_type": "code",
      "metadata": {
        "colab": {
          "base_uri": "https://localhost:8080/"
        },
        "id": "WUac1s1KjCJY",
        "outputId": "4aaa5718-7e3b-44bb-fa85-9e1d17afcd52"
      },
      "source": [
        "\r\n",
        "# Listas vazias\r\n",
        "\r\n",
        "lista = []\r\n",
        "\r\n",
        "print(lista, len(lista), type(lista))"
      ],
      "execution_count": 17,
      "outputs": [
        {
          "output_type": "stream",
          "text": [
            "[] 0 <class 'list'>\n"
          ],
          "name": "stdout"
        }
      ]
    },
    {
      "cell_type": "code",
      "metadata": {
        "colab": {
          "base_uri": "https://localhost:8080/"
        },
        "id": "UB-PKZ7jjMIZ",
        "outputId": "e62f9b9f-e107-4920-ba0b-4ef22e82f105"
      },
      "source": [
        "numeros = [12]\r\n",
        "\r\n",
        "print(numeros, len(numeros), type(numeros))"
      ],
      "execution_count": 18,
      "outputs": [
        {
          "output_type": "stream",
          "text": [
            "[12] 1 <class 'list'>\n"
          ],
          "name": "stdout"
        }
      ]
    },
    {
      "cell_type": "code",
      "metadata": {
        "colab": {
          "base_uri": "https://localhost:8080/"
        },
        "id": "EtUe-TK0jSEx",
        "outputId": "2d1aac8a-937f-469f-f7e8-0b366dd7c456"
      },
      "source": [
        "# Adicionando elementos na lista\r\n",
        "\r\n",
        "numeros = []\r\n",
        "\r\n",
        "print(numeros, len(numeros), type(numeros))\r\n",
        "\r\n",
        "numeros.append(10)\r\n",
        "numeros.append(80)\r\n",
        "numeros.append(7)\r\n",
        "numeros.append(12)\r\n",
        "numeros.append(19)\r\n",
        "numeros.insert(0, 999)\r\n",
        "\r\n",
        "print(numeros, len(numeros), type(numeros))"
      ],
      "execution_count": 19,
      "outputs": [
        {
          "output_type": "stream",
          "text": [
            "[] 0 <class 'list'>\n",
            "[999, 10, 80, 7, 12, 19] 6 <class 'list'>\n"
          ],
          "name": "stdout"
        }
      ]
    },
    {
      "cell_type": "code",
      "metadata": {
        "colab": {
          "base_uri": "https://localhost:8080/"
        },
        "id": "fBwH-w3hjYJI",
        "outputId": "34915f5e-0f0e-48af-bc06-76be4bbeeca9"
      },
      "source": [
        "numeros = [7, 6, 1]\r\n",
        "\r\n",
        "numeros.insert(3, 99)\r\n",
        "\r\n",
        "print(numeros, len(numeros), type(numeros))"
      ],
      "execution_count": 20,
      "outputs": [
        {
          "output_type": "stream",
          "text": [
            "[7, 6, 1, 99] 4 <class 'list'>\n"
          ],
          "name": "stdout"
        }
      ]
    },
    {
      "cell_type": "code",
      "metadata": {
        "colab": {
          "base_uri": "https://localhost:8080/"
        },
        "id": "b-luUwphmNMY",
        "outputId": "5eabebe8-6c6e-4669-b06c-ca4552b4fbd6"
      },
      "source": [
        "# Ordenando uma lista\r\n",
        "\r\n",
        "numeros = [9, 3, 4, 77, 1, 6, 5, 300, 20]\r\n",
        "\r\n",
        "numeros.sort(reverse=True)\r\n",
        "\r\n",
        "print(numeros)"
      ],
      "execution_count": 22,
      "outputs": [
        {
          "output_type": "stream",
          "text": [
            "[300, 77, 20, 9, 6, 5, 4, 3, 1]\n"
          ],
          "name": "stdout"
        }
      ]
    },
    {
      "cell_type": "code",
      "metadata": {
        "colab": {
          "base_uri": "https://localhost:8080/"
        },
        "id": "rgR5ZLZ-mQFg",
        "outputId": "68db60ca-5210-4569-d27d-775212ef01a1"
      },
      "source": [
        "# Visualizando todos os itens de uma lista\r\n",
        "# Declaração: 'for'\r\n",
        "\r\n",
        "numeros = [10, 90, 40, 30, 20, 50]\r\n",
        "\r\n",
        "for numero in numeros:\r\n",
        "  print(numero)"
      ],
      "execution_count": 25,
      "outputs": [
        {
          "output_type": "stream",
          "text": [
            "10\n",
            "90\n",
            "40\n",
            "30\n",
            "20\n",
            "50\n"
          ],
          "name": "stdout"
        }
      ]
    },
    {
      "cell_type": "code",
      "metadata": {
        "colab": {
          "base_uri": "https://localhost:8080/"
        },
        "id": "W-Fq87h-mWPx",
        "outputId": "4fe5aa65-20d1-4ea9-b14d-f802bbe83c6f"
      },
      "source": [
        "# Visualizando todos os itens de uma lista\r\n",
        "# Declaração: 'for'\r\n",
        "\r\n",
        "# for valor in lista:\r\n",
        "#   Executo uma vez para cada valor.\r\n",
        "#   Em cada execução, a variável 'valor' possui uma informação diferente\r\n",
        "# Exemplo: Numa lista com [4, 12, 6]\r\n",
        "# Se tivermos: for valor in lista:\r\n",
        "# Temos na 'primeira' execução do for a informação '4' para a variável 'valor'\r\n",
        "# Temos na 'segunda' execução do for a informação '12' para a variável 'valor'\r\n",
        "# Temos na 'terceira' execução do for a informação '6' para a variável 'valor'\r\n",
        "\r\n",
        "numeros = [10, 90, 40, 30, 20, 50]\r\n",
        "numeros_em_dobro = []\r\n",
        "\r\n",
        "for numero in numeros:\r\n",
        "  # print(\"Início do for:\", numero, numeros, numeros_em_dobro)\r\n",
        "  numeros_em_dobro.append(numero * 2)\r\n",
        "  print(\"Execução do for para o número:\", f\"{numero} * 2 = {numero * 2}\", numeros_em_dobro)\r\n",
        "  # print()\r\n",
        "\r\n",
        "print(numeros)\r\n",
        "print(numeros_em_dobro)"
      ],
      "execution_count": 26,
      "outputs": [
        {
          "output_type": "stream",
          "text": [
            "Execução do for para o número: 10 * 2 = 20 [20]\n",
            "Execução do for para o número: 90 * 2 = 180 [20, 180]\n",
            "Execução do for para o número: 40 * 2 = 80 [20, 180, 80]\n",
            "Execução do for para o número: 30 * 2 = 60 [20, 180, 80, 60]\n",
            "Execução do for para o número: 20 * 2 = 40 [20, 180, 80, 60, 40]\n",
            "Execução do for para o número: 50 * 2 = 100 [20, 180, 80, 60, 40, 100]\n",
            "[10, 90, 40, 30, 20, 50]\n",
            "[20, 180, 80, 60, 40, 100]\n"
          ],
          "name": "stdout"
        }
      ]
    },
    {
      "cell_type": "code",
      "metadata": {
        "colab": {
          "base_uri": "https://localhost:8080/"
        },
        "id": "7EybBe5HnSsJ",
        "outputId": "d1a16546-832f-4b64-feae-d7669786fd4c"
      },
      "source": [
        "#Lista com indice\r\n",
        "\r\n",
        "numeros = [9, 6, 3, 5]\r\n",
        "\r\n",
        "#For indexado\r\n",
        "\r\n",
        "for indice in range(len(numeros)):\r\n",
        "  numero = numeros[indice]\r\n",
        "  print(\"Indice\", indice, \"temos o valo: \",numero)\r\n",
        "\r\n"
      ],
      "execution_count": 28,
      "outputs": [
        {
          "output_type": "stream",
          "text": [
            "Indice 0 temos o valo:  9\n",
            "Indice 1 temos o valo:  6\n",
            "Indice 2 temos o valo:  3\n",
            "Indice 3 temos o valo:  5\n"
          ],
          "name": "stdout"
        }
      ]
    },
    {
      "cell_type": "code",
      "metadata": {
        "colab": {
          "base_uri": "https://localhost:8080/"
        },
        "id": "GOcxJhW2u9J3",
        "outputId": "2a2d6bf3-561b-467d-9eee-e6d98a5eb76b"
      },
      "source": [
        "\r\n",
        "numeros = [9, 4, 3, 7, 5]\r\n",
        "# For indexado, em que temos acesso ao índice de cada valor\r\n",
        "\r\n",
        "for indice in range(len(numeros)):\r\n",
        "  numero = numeros[indice]\r\n",
        "  print(\"Índice\", indice, \"temos o valor\", numero)\r\n",
        "\r\n",
        "  if indice == 2:\r\n",
        "    break"
      ],
      "execution_count": 29,
      "outputs": [
        {
          "output_type": "stream",
          "text": [
            "Índice 0 temos o valor 9\n",
            "Índice 1 temos o valor 4\n",
            "Índice 2 temos o valor 3\n"
          ],
          "name": "stdout"
        }
      ]
    },
    {
      "cell_type": "code",
      "metadata": {
        "colab": {
          "base_uri": "https://localhost:8080/"
        },
        "id": "g0sdKMg7vJt6",
        "outputId": "ce94c163-c799-407e-bf19-f082c343d1b4"
      },
      "source": [
        "numeros = [7, 3, 9]\r\n",
        "indice = 1\r\n",
        "print(numeros[indice])"
      ],
      "execution_count": 30,
      "outputs": [
        {
          "output_type": "stream",
          "text": [
            "3\n"
          ],
          "name": "stdout"
        }
      ]
    },
    {
      "cell_type": "code",
      "metadata": {
        "colab": {
          "base_uri": "https://localhost:8080/"
        },
        "id": "cnBRErosvMow",
        "outputId": "a481717c-7bba-4046-885b-f9fd915d9d9e"
      },
      "source": [
        "# Introduzindo um pouco do enumerate, explicaremos a seguir...\r\n",
        "\r\n",
        "numeros = [9, 12, 4, 7, 3]\r\n",
        "\r\n",
        "enum = enumerate(numeros)\r\n",
        "lista = list(enum)\r\n",
        "\r\n",
        "print(lista)"
      ],
      "execution_count": 31,
      "outputs": [
        {
          "output_type": "stream",
          "text": [
            "[(0, 9), (1, 12), (2, 4), (3, 7), (4, 3)]\n"
          ],
          "name": "stdout"
        }
      ]
    },
    {
      "cell_type": "code",
      "metadata": {
        "colab": {
          "base_uri": "https://localhost:8080/"
        },
        "id": "GgFA7-F6vPiq",
        "outputId": "694fd581-3804-43a3-f483-4c39243f73fd"
      },
      "source": [
        "\r\n",
        "# Tuplas -> Parecem muito com as listas\r\n",
        "\r\n",
        "tupla = (1, 5, 9, 7, 6)\r\n",
        "\r\n",
        "print(tupla, type(tupla))"
      ],
      "execution_count": 46,
      "outputs": [
        {
          "output_type": "stream",
          "text": [
            "(1, 5, 9, 7, 6) <class 'tuple'>\n"
          ],
          "name": "stdout"
        }
      ]
    },
    {
      "cell_type": "code",
      "metadata": {
        "colab": {
          "base_uri": "https://localhost:8080/"
        },
        "id": "KTG-sV0DvcRw",
        "outputId": "42fdf4be-6fba-4763-8417-95e272c1b8be"
      },
      "source": [
        "# Acessando elementos das tuplas\r\n",
        "\r\n",
        "numeros = (9, 7, 6, 3, 4, 65)\r\n",
        "\r\n",
        "primeiro_numero = numeros[0]\r\n",
        "\r\n",
        "print(primeiro_numero, type(primeiro_numero))"
      ],
      "execution_count": 45,
      "outputs": [
        {
          "output_type": "stream",
          "text": [
            "9 <class 'int'>\n"
          ],
          "name": "stdout"
        }
      ]
    },
    {
      "cell_type": "code",
      "metadata": {
        "colab": {
          "base_uri": "https://localhost:8080/"
        },
        "id": "RfrAKO_jvjoh",
        "outputId": "e392ea1a-0db3-4e1e-fbe8-2c3cd5dd1976"
      },
      "source": [
        "numeros = 9, 7, 6, 3, 4, 65\r\n",
        "\r\n",
        "print(numeros)"
      ],
      "execution_count": 43,
      "outputs": [
        {
          "output_type": "stream",
          "text": [
            "(9, 7, 6, 3, 4, 65)\n"
          ],
          "name": "stdout"
        }
      ]
    },
    {
      "cell_type": "code",
      "metadata": {
        "colab": {
          "base_uri": "https://localhost:8080/"
        },
        "id": "MDqU4jN0vnNR",
        "outputId": "655a239e-db10-475c-d2af-45a3fb8e48ff"
      },
      "source": [
        "\r\n",
        "numeros = 5,7\r\n",
        "\r\n",
        "print(numeros, type(numeros))\r\n"
      ],
      "execution_count": 42,
      "outputs": [
        {
          "output_type": "stream",
          "text": [
            "(5, 7) <class 'tuple'>\n"
          ],
          "name": "stdout"
        }
      ]
    },
    {
      "cell_type": "code",
      "metadata": {
        "colab": {
          "base_uri": "https://localhost:8080/"
        },
        "id": "O1IJGeo1vqSi",
        "outputId": "6cb842ed-0338-4a51-ce7e-0fe8b6b0d0cd"
      },
      "source": [
        "numeros = 5,\r\n",
        "print(numeros, type(numeros))"
      ],
      "execution_count": 41,
      "outputs": [
        {
          "output_type": "stream",
          "text": [
            "(5,) <class 'tuple'>\n"
          ],
          "name": "stdout"
        }
      ]
    },
    {
      "cell_type": "code",
      "metadata": {
        "colab": {
          "base_uri": "https://localhost:8080/"
        },
        "id": "Qx8vqab-vsNq",
        "outputId": "9d773b67-99e3-43b3-f9c5-b0d82e22c572"
      },
      "source": [
        "tupla = (\"Paulo\", \"Salvatore\")\r\n",
        "\r\n",
        "print(tupla, type(tupla))\r\n",
        "\r\n",
        "nome = tupla[0]\r\n",
        "sobrenome = tupla[1]\r\n",
        "\r\n",
        "print(nome, type(nome))\r\n",
        "print(sobrenome, type(sobrenome))"
      ],
      "execution_count": 39,
      "outputs": [
        {
          "output_type": "stream",
          "text": [
            "('Paulo', 'Salvatore') <class 'tuple'>\n",
            "Paulo <class 'str'>\n",
            "Salvatore <class 'str'>\n"
          ],
          "name": "stdout"
        }
      ]
    },
    {
      "cell_type": "code",
      "metadata": {
        "colab": {
          "base_uri": "https://localhost:8080/"
        },
        "id": "knw9zO9avuCp",
        "outputId": "511d7a8e-1e2c-4fac-fe0a-27edf2c5d8eb"
      },
      "source": [
        "# Desconstrução de tuplas\r\n",
        "\r\n",
        "nome, sobrenome = (\"Paulo\", \"Salvatore\")\r\n",
        "\r\n",
        "print(nome, type(nome))\r\n",
        "print(sobrenome, type(sobrenome))"
      ],
      "execution_count": 40,
      "outputs": [
        {
          "output_type": "stream",
          "text": [
            "Paulo <class 'str'>\n",
            "Salvatore <class 'str'>\n"
          ],
          "name": "stdout"
        }
      ]
    },
    {
      "cell_type": "code",
      "metadata": {
        "colab": {
          "base_uri": "https://localhost:8080/"
        },
        "id": "HNJjw0EDvxWU",
        "outputId": "b5bf5d18-d92a-44ce-8fd2-a7e2913ea2bf"
      },
      "source": [
        "numeros = [30, 6, 1, 9, 6]\r\n",
        "\r\n",
        "enum = enumerate(numeros)\r\n",
        "\r\n",
        "lista = list(enum)\r\n",
        "\r\n",
        "# Transformo o enum em lista apenas para exibí-lo no print\r\n",
        "print(lista, type(lista))\r\n",
        "\r\n",
        "print(lista[0], type(lista[0]))\r\n",
        "\r\n",
        "indice, valor = lista[0]\r\n",
        "\r\n",
        "print(indice, valor, type(indice), type(valor))"
      ],
      "execution_count": 38,
      "outputs": [
        {
          "output_type": "stream",
          "text": [
            "[(0, 30), (1, 6), (2, 1), (3, 9), (4, 6)] <class 'list'>\n",
            "(0, 30) <class 'tuple'>\n",
            "0 30 <class 'int'> <class 'int'>\n"
          ],
          "name": "stdout"
        }
      ]
    },
    {
      "cell_type": "code",
      "metadata": {
        "colab": {
          "base_uri": "https://localhost:8080/"
        },
        "id": "QB0FOePcvzcv",
        "outputId": "6c1d06b0-aaf0-4e43-cd39-e2664bcc21f5"
      },
      "source": [
        "numeros = [9, 6, 7, 9, 2, 4, 3]\r\n",
        "\r\n",
        "for indice, valor in enumerate(numeros):\r\n",
        "  print(indice, valor)"
      ],
      "execution_count": 37,
      "outputs": [
        {
          "output_type": "stream",
          "text": [
            "0 9\n",
            "1 6\n",
            "2 7\n",
            "3 9\n",
            "4 2\n",
            "5 4\n",
            "6 3\n"
          ],
          "name": "stdout"
        }
      ]
    },
    {
      "cell_type": "code",
      "metadata": {
        "colab": {
          "base_uri": "https://localhost:8080/"
        },
        "id": "cLdzfhR4v2Gx",
        "outputId": "da292fac-0d62-4099-c961-5543a0bea5e5"
      },
      "source": [
        "tupla = (5, 6, 9, 7, 3)\r\n",
        "\r\n",
        "print(tupla, type(tupla))\r\n",
        "\r\n",
        "# Transforma qualquer coisa em lista (desde que seja um tipo suportado)\r\n",
        "lista = list(tupla)\r\n",
        "\r\n",
        "lista[0] = 9\r\n",
        "\r\n",
        "print(lista)\r\n",
        "\r\n",
        "tupla = tuple(lista)\r\n",
        "\r\n",
        "print(tupla)"
      ],
      "execution_count": 36,
      "outputs": [
        {
          "output_type": "stream",
          "text": [
            "(5, 6, 9, 7, 3) <class 'tuple'>\n",
            "[9, 6, 9, 7, 3]\n",
            "(9, 6, 9, 7, 3)\n"
          ],
          "name": "stdout"
        }
      ]
    },
    {
      "cell_type": "code",
      "metadata": {
        "colab": {
          "base_uri": "https://localhost:8080/"
        },
        "id": "lbgNFcNSv35g",
        "outputId": "8ad7657f-6be4-4f03-e7cd-dcd9d0ef4bd2"
      },
      "source": [
        "numeros = [9, 6, 7, 8]\r\n",
        "\r\n",
        "enum = enumerate(numeros)\r\n",
        "\r\n",
        "lista = list(enum)\r\n",
        "\r\n",
        "primeiro_item_enum = lista[0]\r\n",
        "\r\n",
        "print(lista)"
      ],
      "execution_count": 35,
      "outputs": [
        {
          "output_type": "stream",
          "text": [
            "[(0, 9), (1, 6), (2, 7), (3, 8)]\n"
          ],
          "name": "stdout"
        }
      ]
    },
    {
      "cell_type": "code",
      "metadata": {
        "colab": {
          "base_uri": "https://localhost:8080/"
        },
        "id": "dcAKpec7v5fL",
        "outputId": "2550744f-45ed-44d8-d196-303392d8e433"
      },
      "source": [
        "numeros = [9, 6, 7, 9, 2, 4, 3]\r\n",
        "\r\n",
        "for indice, valor in enumerate(numeros):\r\n",
        "  print(indice, valor)"
      ],
      "execution_count": 34,
      "outputs": [
        {
          "output_type": "stream",
          "text": [
            "0 9\n",
            "1 6\n",
            "2 7\n",
            "3 9\n",
            "4 2\n",
            "5 4\n",
            "6 3\n"
          ],
          "name": "stdout"
        }
      ]
    },
    {
      "cell_type": "code",
      "metadata": {
        "colab": {
          "base_uri": "https://localhost:8080/"
        },
        "id": "i1S8--nhv6-D",
        "outputId": "0caf24a1-b1c6-4a51-c4c7-26dd68382686"
      },
      "source": [
        "tupla = 5, 6, 7, 6, 1, 9, 5, 2, 7, 3, 6\r\n",
        "\r\n",
        "print(sum(tupla))"
      ],
      "execution_count": 33,
      "outputs": [
        {
          "output_type": "stream",
          "text": [
            "57\n"
          ],
          "name": "stdout"
        }
      ]
    },
    {
      "cell_type": "code",
      "metadata": {
        "colab": {
          "base_uri": "https://localhost:8080/"
        },
        "id": "Zlai_ijmz_ry",
        "outputId": "cb2c88a4-63ff-433e-833e-b80c528e5bc0"
      },
      "source": [
        "\"\"\"\r\n",
        "From Rafael Bianco to Everyone:  04:17 PM\r\n",
        "professor se a lista for em string, como fazermos para clássicas em ordem alfabética?\r\n",
        "\"\"\"\r\n",
        "\r\n",
        "nomes = [\"Rafael\", \"Paulo\", \"Marina\", \"Mariana\", \"Gabriel\", \"Juliano\"]\r\n",
        "\r\n",
        "nomes.sort(reverse=True)\r\n",
        "\r\n",
        "print(nomes)"
      ],
      "execution_count": 47,
      "outputs": [
        {
          "output_type": "stream",
          "text": [
            "['Rafael', 'Paulo', 'Marina', 'Mariana', 'Juliano', 'Gabriel']\n"
          ],
          "name": "stdout"
        }
      ]
    },
    {
      "cell_type": "code",
      "metadata": {
        "colab": {
          "base_uri": "https://localhost:8080/"
        },
        "id": "UCK2a9hk0B_p",
        "outputId": "cb8532e3-524c-4c3a-d80c-08afe0d87c5d"
      },
      "source": [
        "\"\"\"\r\n",
        "From Andrea Davi Carrer to Everyone:  04:01 PM\r\n",
        "e se eu quiser que ele incremente de 2 em 2?\r\n",
        "\"\"\"\r\n",
        "\r\n",
        "numeros = [10, 9, 6, 4, 7, 6, 6, 4, 1, 3, 9]\r\n",
        "\r\n",
        "for indice in range(0, len(numeros), 2):\r\n",
        "  print(indice)"
      ],
      "execution_count": 48,
      "outputs": [
        {
          "output_type": "stream",
          "text": [
            "0\n",
            "2\n",
            "4\n",
            "6\n",
            "8\n",
            "10\n"
          ],
          "name": "stdout"
        }
      ]
    },
    {
      "cell_type": "code",
      "metadata": {
        "colab": {
          "base_uri": "https://localhost:8080/"
        },
        "id": "5MJheEBa0Ehj",
        "outputId": "177568ab-434d-4e0f-c750-d8a34613c0a8"
      },
      "source": [
        "\"\"\"\r\n",
        "From Guilherme Alarsa to Everyone:  03:47 PM\r\n",
        "e uma lista que tivesse um input pro usuário colocar os valores?\r\n",
        "\"\"\"\r\n",
        "\r\n",
        "numeros = []\r\n",
        "\r\n",
        "print(\"Digite 3 números...\")\r\n",
        "\r\n",
        "for indice in range(3):\r\n",
        "  numero = int(input(\"Digite um número: \"))\r\n",
        "  numeros.append(numero)\r\n",
        "\r\n",
        "print(\"Os números digitados foram:\", numeros)"
      ],
      "execution_count": 49,
      "outputs": [
        {
          "output_type": "stream",
          "text": [
            "Digite 3 números...\n",
            "Digite um número: 5\n",
            "Digite um número: 6\n",
            "Digite um número: 7\n",
            "Os números digitados foram: [5, 6, 7]\n"
          ],
          "name": "stdout"
        }
      ]
    },
    {
      "cell_type": "code",
      "metadata": {
        "id": "kzGU9eYV0HFV"
      },
      "source": [
        "# Dicionários\r\n",
        "# Quase iguais as listas\r\n",
        "# A única diferença é que podemos/devemos definir os índices\r\n",
        "\r\n",
        "# Enquanto a lista atribui índices sequenciais de maneira automática,\r\n",
        "# os dicionários precisam desse índice definido\r\n",
        "\r\n",
        "dicionario = {\"nome\": \"Paulo\", \"sobrenome\": \"Salvatore\"}\r\n",
        "\r\n",
        "print(dicionario, type(dicionario))\r\n",
        "\r\n",
        "nome = dicionario[\"nome\"]\r\n",
        "print(nome, type(nome))\r\n",
        "\r\n",
        "sobrenome = dicionario[\"sobrenome\"]\r\n",
        "print(sobrenome, type(sobrenome))"
      ],
      "execution_count": null,
      "outputs": []
    },
    {
      "cell_type": "code",
      "metadata": {
        "colab": {
          "base_uri": "https://localhost:8080/"
        },
        "id": "958eeA2J0OC1",
        "outputId": "a7eb57c1-b468-4fa3-e3e5-376a29bf1f2d"
      },
      "source": [
        "paulo = {\r\n",
        "    \"nome\": \"Paulo\",\r\n",
        "    \"sobrenome\": \"Salvatore\",\r\n",
        "}\r\n",
        "\r\n",
        "caio = {\r\n",
        "    \"nome\": \"Caio\",\r\n",
        "    \"sobrenome\": \"Felintro\",\r\n",
        "}\r\n",
        "\r\n",
        "renato = {\r\n",
        "    \"nome\": \"Renato\",\r\n",
        "    \"sobrenome\": \"Fonseca\",\r\n",
        "}\r\n",
        "\r\n",
        "pessoas = [paulo, caio, renato]\r\n",
        "\r\n",
        "for pessoa in pessoas:\r\n",
        "  nome = pessoa[\"nome\"]\r\n",
        "  sobrenome = pessoa[\"sobrenome\"]\r\n",
        "\r\n",
        "  print(nome, sobrenome)\r\n",
        "\r\n",
        "# print(paulo[\"nome\"], paulo[\"sobrenome\"])\r\n",
        "# print(caio[\"nome\"], caio[\"sobrenome\"]"
      ],
      "execution_count": 50,
      "outputs": [
        {
          "output_type": "stream",
          "text": [
            "Paulo Salvatore\n",
            "Caio Felintro\n",
            "Renato Fonseca\n"
          ],
          "name": "stdout"
        }
      ]
    },
    {
      "cell_type": "markdown",
      "metadata": {
        "id": "rqQsCDBw0SmF"
      },
      "source": [
        "Exercícios para praticar\r\n",
        "https://github.com/paulosalvatore/ExerciciosPython/blob/master/exercicios/exercicio14.py\r\n",
        "\r\n",
        "https://github.com/paulosalvatore/ExerciciosPython/blob/master/exercicios/exercicio16.py\r\n",
        "\r\n",
        "https://github.com/paulosalvatore/ExerciciosPython/blob/master/exercicios/exercicio19.py\r\n",
        "\r\n",
        "https://github.com/paulosalvatore/ExerciciosPython/blob/master/exercicios/exercicio23.py\r\n",
        "\r\n",
        "https://github.com/paulosalvatore/ExerciciosPython/blob/master/exercicios/exercicio25.py\r\n",
        "\r\n",
        "Exercício bem completo\r\n",
        "https://github.com/paulosalvatore/ExerciciosPython/blob/master/exercicios/exercicio15.py\r\n",
        "\r\n",
        "Exercício boss\r\n",
        "https://github.com/paulosalvatore/ExerciciosPython/blob/master/exercicios/exercicio26.py"
      ]
    }
  ]
}