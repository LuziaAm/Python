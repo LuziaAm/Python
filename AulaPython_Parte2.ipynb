{
  "nbformat": 4,
  "nbformat_minor": 0,
  "metadata": {
    "colab": {
      "name": "AulaPython-Parte2.ipynb",
      "provenance": [],
      "authorship_tag": "ABX9TyMl7yra582d5sf4jOq7rVhR",
      "include_colab_link": true
    },
    "kernelspec": {
      "name": "python3",
      "display_name": "Python 3"
    }
  },
  "cells": [
    {
      "cell_type": "markdown",
      "metadata": {
        "id": "view-in-github",
        "colab_type": "text"
      },
      "source": [
        "<a href=\"https://colab.research.google.com/github/LuziaAm/Python/blob/main/AulaPython_Parte2.ipynb\" target=\"_parent\"><img src=\"https://colab.research.google.com/assets/colab-badge.svg\" alt=\"Open In Colab\"/></a>"
      ]
    },
    {
      "cell_type": "code",
      "metadata": {
        "colab": {
          "base_uri": "https://localhost:8080/"
        },
        "id": "EsPh9XObEhc-",
        "outputId": "c00b9f8d-0ba3-449f-da29-46543bd94123"
      },
      "source": [
        "nome = input(\"Qual o seu nome? \")\r\n",
        "idade = int(input(\"Quantos anos você tem? \"))\r\n",
        "genero = input(\"Informe o seu gênero: \")\r\n",
        "\r\n",
        "print(nome, idade, genero)\r\n",
        "\r\n",
        "print(f\"Olá, {nome}, você possui {idade} anos de idade e é do gênero {genero}.\")\r\n",
        "\r\n",
        "print(f\"Já pensou no que você fará no seu aniversário de {idade + 1} anos?\")"
      ],
      "execution_count": 16,
      "outputs": [
        {
          "output_type": "stream",
          "text": [
            "Qual o seu nome? d\n",
            "Quantos anos você tem? 3\n",
            "Informe o seu gênero: s\n",
            "d 3 s\n",
            "Olá, d, você possui 3 anos de idade e é do gênero s.\n",
            "Já pensou no que você fará no seu aniversário de 4 anos?\n"
          ],
          "name": "stdout"
        }
      ]
    },
    {
      "cell_type": "code",
      "metadata": {
        "colab": {
          "base_uri": "https://localhost:8080/"
        },
        "id": "N2UeBqf_Nf4l",
        "outputId": "1d14e766-c69d-418c-a3bb-6014e0732313"
      },
      "source": [
        "\r\n",
        "# Exemplo com a \"pimentinha extra\" resolvida\r\n",
        "\r\n",
        "nome = input(\"Qual o seu nome? \")\r\n",
        "idade = int(input(\"Quantos anos você tem? \"))\r\n",
        "genero = input(\"Informe o seu gênero: \")\r\n",
        "\r\n",
        "print(nome, idade, genero)\r\n",
        "\r\n",
        "exibicao_anos = \"\"\r\n",
        "\r\n",
        "if idade != 1:\r\n",
        "  exibicao_anos = \"anos\"\r\n",
        "else:\r\n",
        "  exibicao_anos = \"ano\"\r\n",
        "\r\n",
        "print(f\"Olá, {nome}, você possui {idade} {exibicao_anos} de idade e é do gênero {genero}.\")\r\n",
        "\r\n",
        "exibicao_anos = \"\"\r\n",
        "\r\n",
        "if idade + 1 != 1:\r\n",
        "  exibicao_anos = \"anos\"\r\n",
        "else:\r\n",
        "  exibicao_anos = \"ano\"\r\n",
        "\r\n",
        "print(f\"Já pensou no que você fará no seu aniversário de {idade + 1} {exibicao_anos}?\")"
      ],
      "execution_count": 17,
      "outputs": [
        {
          "output_type": "stream",
          "text": [
            "Qual o seu nome? d\n",
            "Quantos anos você tem? 3\n",
            "Informe o seu gênero: s\n",
            "d 3 s\n",
            "Olá, d, você possui 3 anos de idade e é do gênero s.\n",
            "Já pensou no que você fará no seu aniversário de 4 anos?\n"
          ],
          "name": "stdout"
        }
      ]
    },
    {
      "cell_type": "code",
      "metadata": {
        "colab": {
          "base_uri": "https://localhost:8080/"
        },
        "id": "TAA3rapENysF",
        "outputId": "e5b9e12f-4fdc-4e5a-eb30-403be1259ea1"
      },
      "source": [
        "# Introduzindo um pouco a utilidade das FUNÇÕES\r\n",
        "\r\n",
        "def formatar_exibicao_anos(valor):\r\n",
        "  if valor != 1:\r\n",
        "    return \"anos\"\r\n",
        "  else:\r\n",
        "    return \"ano\"\r\n",
        "\r\n",
        "\r\n",
        "# Exemplo com a \"pimentinha extra\" resolvida\r\n",
        "\r\n",
        "nome = input(\"Qual o seu nome? \")\r\n",
        "idade = int(input(\"Quantos anos você tem? \"))\r\n",
        "genero = input(\"Informe o seu gênero: \")\r\n",
        "\r\n",
        "print(nome, idade, genero)\r\n",
        "\r\n",
        "print(f\"Olá, {nome}, você possui {idade} {formatar_exibicao_anos(idade)} de idade e é do gênero {genero}.\")\r\n",
        "\r\n",
        "aniversario = idade + 1\r\n",
        "\r\n",
        "print(f\"Já pensou no que você fará no seu aniversário de {aniversario} {formatar_exibicao_anos(aniversario)}?\")"
      ],
      "execution_count": 18,
      "outputs": [
        {
          "output_type": "stream",
          "text": [
            "Qual o seu nome? s\n",
            "Quantos anos você tem? 3\n",
            "Informe o seu gênero: s\n",
            "s 3 s\n",
            "Olá, s, você possui 3 anos de idade e é do gênero s.\n",
            "Já pensou no que você fará no seu aniversário de 4 anos?\n"
          ],
          "name": "stdout"
        }
      ]
    },
    {
      "cell_type": "code",
      "metadata": {
        "colab": {
          "base_uri": "https://localhost:8080/"
        },
        "id": "DzUO_MwCN4F7",
        "outputId": "47854bb0-a965-4f4f-92c1-337c151c23d7"
      },
      "source": [
        "genero = \"Masculino\"\r\n",
        "\r\n",
        "print(\"Sem formatação:\", genero)\r\n",
        "\r\n",
        "print(\"Capitalize:\", genero.capitalize())\r\n",
        "\r\n",
        "print(\"Upper case:\", genero.upper())\r\n",
        "\r\n",
        "print(\"Lower case:\", genero.lower())\r\n",
        "\r\n",
        "print()\r\n",
        "\r\n",
        "if genero.lower() == \"masculino\":\r\n",
        "  print(f\"Esse if será lido\")\r\n",
        "else:\r\n",
        "  print(\"Esse if não foi lido\")"
      ],
      "execution_count": 19,
      "outputs": [
        {
          "output_type": "stream",
          "text": [
            "Sem formatação: Masculino\n",
            "Capitalize: Masculino\n",
            "Upper case: MASCULINO\n",
            "Lower case: masculino\n",
            "\n",
            "Esse if será lido\n"
          ],
          "name": "stdout"
        }
      ]
    },
    {
      "cell_type": "code",
      "metadata": {
        "colab": {
          "base_uri": "https://localhost:8080/"
        },
        "id": "qsJG5jJIN8sO",
        "outputId": "07e76ddc-3958-46cc-af31-3ce2f18587c1"
      },
      "source": [
        "idade = 5 # int\r\n",
        "outra_idade = \"5\" # str\r\n",
        "nova_idade = input(\"Idade: \") # str\r\n",
        "\r\n",
        "outra_idade_transformada = int(outra_idade)\r\n",
        "\r\n",
        "nova_idade_transformada = int(nova_idade)\r\n",
        "\r\n",
        "print()\r\n",
        "\r\n",
        "print(idade, type(idade))\r\n",
        "print()\r\n",
        "\r\n",
        "print(outra_idade, type(outra_idade))\r\n",
        "print(outra_idade_transformada, type(outra_idade_transformada))\r\n",
        "print()\r\n",
        "\r\n",
        "print(nova_idade, type(nova_idade))\r\n",
        "print(nova_idade_transformada, type(nova_idade_transformada))"
      ],
      "execution_count": 22,
      "outputs": [
        {
          "output_type": "stream",
          "text": [
            "Idade: 36\n",
            "\n",
            "5 <class 'int'>\n",
            "\n",
            "5 <class 'str'>\n",
            "5 <class 'int'>\n",
            "\n",
            "36 <class 'str'>\n",
            "36 <class 'int'>\n"
          ],
          "name": "stdout"
        }
      ]
    },
    {
      "cell_type": "code",
      "metadata": {
        "colab": {
          "base_uri": "https://localhost:8080/"
        },
        "id": "p_JlVz4mSVNu",
        "outputId": "754851fd-ef27-4478-e184-f11703341334"
      },
      "source": [
        "idade = 20\r\n",
        "maior_idade = False\r\n",
        "\r\n",
        "print(\"Maior idade:\", maior_idade, type(maior_idade))"
      ],
      "execution_count": 23,
      "outputs": [
        {
          "output_type": "stream",
          "text": [
            "Maior idade: False <class 'bool'>\n"
          ],
          "name": "stdout"
        }
      ]
    },
    {
      "cell_type": "code",
      "metadata": {
        "colab": {
          "base_uri": "https://localhost:8080/"
        },
        "id": "dtZSSSPsSbqc",
        "outputId": "eea695ca-b83d-4742-e74a-0c76aa9d61eb"
      },
      "source": [
        "idade = 20\r\n",
        "maior_idade = idade >= 18\r\n",
        "\r\n",
        "print(\"Maior idade:\", maior_idade, type(maior_idade))"
      ],
      "execution_count": 24,
      "outputs": [
        {
          "output_type": "stream",
          "text": [
            "Maior idade: True <class 'bool'>\n"
          ],
          "name": "stdout"
        }
      ]
    },
    {
      "cell_type": "code",
      "metadata": {
        "colab": {
          "base_uri": "https://localhost:8080/"
        },
        "id": "sGTY21w7SnE1",
        "outputId": "05f1d064-9586-43c1-ff69-be80ab5aa003"
      },
      "source": [
        "idade = 17\r\n",
        "altura = 202\r\n",
        "\r\n",
        "maior_idade = idade >= 18\r\n",
        "\r\n",
        "maior_que_dois_metros = altura >= 200\r\n",
        "\r\n",
        "maior_idade_e_maior_que_dois_metros = maior_idade and maior_que_dois_metros\r\n",
        "\r\n",
        "print(\"Maior idade:\", maior_idade, type(maior_idade))\r\n",
        "print(\"Maior do que 200cm:\", maior_que_dois_metros, type(maior_que_dois_metros))\r\n",
        "\r\n",
        "print()\r\n",
        "\r\n",
        "print(\"Maior de Idade e Maior do que 2m:\", maior_idade_e_maior_que_dois_metros, type(maior_idade_e_maior_que_dois_metros))"
      ],
      "execution_count": 25,
      "outputs": [
        {
          "output_type": "stream",
          "text": [
            "Maior idade: False <class 'bool'>\n",
            "Maior do que 200cm: True <class 'bool'>\n",
            "\n",
            "Maior de Idade e Maior do que 2m: False <class 'bool'>\n"
          ],
          "name": "stdout"
        }
      ]
    },
    {
      "cell_type": "code",
      "metadata": {
        "colab": {
          "base_uri": "https://localhost:8080/"
        },
        "id": "3ZO_SbQJSqU0",
        "outputId": "e40afb20-12e1-410a-998c-2a182188223d"
      },
      "source": [
        "# Valores Booleanos\r\n",
        "\r\n",
        "print(True)\r\n",
        "print(False)"
      ],
      "execution_count": 26,
      "outputs": [
        {
          "output_type": "stream",
          "text": [
            "True\n",
            "False\n"
          ],
          "name": "stdout"
        }
      ]
    },
    {
      "cell_type": "code",
      "metadata": {
        "colab": {
          "base_uri": "https://localhost:8080/"
        },
        "id": "qGu4BgYmSslD",
        "outputId": "05ac14d7-c39f-42cc-b29c-4bb59b6e7c2d"
      },
      "source": [
        "# Comparações\r\n",
        "\r\n",
        "print(\"1 > 1\", 1 > 1)\r\n",
        "print(\"1 == 1\", 1 == 1)\r\n",
        "print(\"1 != 1\", 1 != 1)\r\n",
        "print(\"1 < 1\", 1 < 1)\r\n",
        "print(\"1 <= 1\", 1 <= 1)\r\n",
        "print(\"1 >= 1\", 1 >= 1)"
      ],
      "execution_count": 27,
      "outputs": [
        {
          "output_type": "stream",
          "text": [
            "1 > 1 False\n",
            "1 == 1 True\n",
            "1 != 1 False\n",
            "1 < 1 False\n",
            "1 <= 1 True\n",
            "1 >= 1 True\n"
          ],
          "name": "stdout"
        }
      ]
    },
    {
      "cell_type": "code",
      "metadata": {
        "colab": {
          "base_uri": "https://localhost:8080/"
        },
        "id": "po5uR0i9SuwI",
        "outputId": "bf5fd946-aef8-4459-ec28-2e04460416e2"
      },
      "source": [
        "# Operadores: not\r\n",
        "\r\n",
        "print(\"True\", True)\r\n",
        "print(\"False\", False)\r\n",
        "print(\"not True\", not True)\r\n",
        "print(\"not False\", not False)"
      ],
      "execution_count": 28,
      "outputs": [
        {
          "output_type": "stream",
          "text": [
            "True True\n",
            "False False\n",
            "not True False\n",
            "not False True\n"
          ],
          "name": "stdout"
        }
      ]
    },
    {
      "cell_type": "code",
      "metadata": {
        "colab": {
          "base_uri": "https://localhost:8080/"
        },
        "id": "trDorbsDSwyj",
        "outputId": "a74ca4a1-ebc9-45f5-c492-57e959188606"
      },
      "source": [
        "idade = 15\r\n",
        "maiorIdade = idade >= 18\r\n",
        "\r\n",
        "menorIdade = maiorIdade\r\n",
        "\r\n",
        "print(\"Essa pessoa é menor de idade?\", menorIdade)"
      ],
      "execution_count": 29,
      "outputs": [
        {
          "output_type": "stream",
          "text": [
            "Essa pessoa é menor de idade? False\n"
          ],
          "name": "stdout"
        }
      ]
    },
    {
      "cell_type": "code",
      "metadata": {
        "colab": {
          "base_uri": "https://localhost:8080/"
        },
        "id": "wuQQaIdTTiF7",
        "outputId": "848364f6-f355-4361-abe0-5300d14fd9ba"
      },
      "source": [
        "# Operadores: and (em outras linguagens, também é conhecido pelo símbolo '&&')\r\n",
        "# Para que o resultado de operação com o 'and' seja True, é necessário que os valores ao lado do 'and' sejam True\r\n",
        "\r\n",
        "print(\"True and True: \", True and True) # True\r\n",
        "print(\"False and True: \", False and True) # False\r\n",
        "print(\"True and False: \", True and False) # False\r\n",
        "print(\"False and False: \", False and False) # False"
      ],
      "execution_count": 32,
      "outputs": [
        {
          "output_type": "stream",
          "text": [
            "True and True:  True\n",
            "False and True:  False\n",
            "True and False:  False\n",
            "False and False:  False\n"
          ],
          "name": "stdout"
        }
      ]
    },
    {
      "cell_type": "code",
      "metadata": {
        "colab": {
          "base_uri": "https://localhost:8080/"
        },
        "id": "kL3jJSytUvlu",
        "outputId": "bb4318dc-4df2-4318-a72d-91e2163561d1"
      },
      "source": [
        "# Operadores: or (em outras linguagens, também é conhecido pelo símbolo '||')\r\n",
        "# Para que o resultado de operação com o 'or' seja True, apenas um dos valores ao lado do 'or' precisa ser True\r\n",
        "\r\n",
        "print(\"True or True: \", True or True) # True\r\n",
        "print(\"False or True: \", False or True) # True\r\n",
        "print(\"True or False: \", True or False) # True\r\n",
        "print(\"False or False: \", False or False) # False"
      ],
      "execution_count": 31,
      "outputs": [
        {
          "output_type": "stream",
          "text": [
            "True or True:  True\n",
            "False or True:  True\n",
            "True or False:  True\n",
            "False or False:  False\n"
          ],
          "name": "stdout"
        }
      ]
    },
    {
      "cell_type": "code",
      "metadata": {
        "colab": {
          "base_uri": "https://localhost:8080/"
        },
        "id": "FLeHf3_YUzVQ",
        "outputId": "643258e3-0b96-492c-d05f-ef326633a42c"
      },
      "source": [
        "print(\"1 == 1: \", 1 == 1) # True\r\n",
        "print(\"1.0 == 1: \", 1.0 == 1) # True\r\n",
        "# As barras invertidas '\\' servem para escapar a string e não considerar como código\r\n",
        "print(\"\\\"1\\\" == 1: \", \"1\" == 1) # False\r\n",
        "print(\"True == 1: \", True == 1) # True\r\n",
        "print(\"True == 2: \", True == 2) # False\r\n",
        "print(\"True == 0: \", True == 0) # False\r\n",
        "print(\"False == 0: \", False == 0) # True\r\n",
        "print(\"False == False: \", False == False) # True\r\n",
        "\r\n",
        "print()\r\n",
        "\r\n",
        "print(type(1), type(1.0), type(\"1\"))"
      ],
      "execution_count": 30,
      "outputs": [
        {
          "output_type": "stream",
          "text": [
            "1 == 1:  True\n",
            "1.0 == 1:  True\n",
            "\"1\" == 1:  False\n",
            "True == 1:  True\n",
            "True == 2:  False\n",
            "True == 0:  False\n",
            "False == 0:  True\n",
            "False == False:  True\n",
            "\n",
            "<class 'int'> <class 'float'> <class 'str'>\n"
          ],
          "name": "stdout"
        }
      ]
    },
    {
      "cell_type": "code",
      "metadata": {
        "colab": {
          "base_uri": "https://localhost:8080/"
        },
        "id": "ROdvRm-9aXf1",
        "outputId": "8ea999ad-9e0f-4869-d70f-9d3731cb3dac"
      },
      "source": [
        "# Uso do if, Elif, else if, else\r\n",
        "#Funções\r\n",
        "#Declaração de condições\r\n",
        "\r\n",
        "#if = se\r\n",
        "\r\n",
        "if True:\r\n",
        "  print(\"Teste 1\")\r\n",
        "\r\n",
        "if False:\r\n",
        "  print(\"Teste 2\")\r\n",
        "\r\n",
        "print(\"Teste apenas o primeiro\")\r\n",
        "\r\n"
      ],
      "execution_count": 34,
      "outputs": [
        {
          "output_type": "stream",
          "text": [
            "Teste 1\n",
            "Teste apenas o primeiro\n"
          ],
          "name": "stdout"
        }
      ]
    },
    {
      "cell_type": "code",
      "metadata": {
        "colab": {
          "base_uri": "https://localhost:8080/"
        },
        "id": "Hihg6ARheMXb",
        "outputId": "5aafece4-65f4-49fe-b9e0-f21f068e6a44"
      },
      "source": [
        "# Uso do if, Elif, else if, else\r\n",
        "#Funções\r\n",
        "#Declaração de condições\r\n",
        "\r\n",
        "#else = caso contrário, vem sempre vem depois de um if ou de um elif - É ativado se a condção anterior for falsa\r\n",
        "\r\n",
        "if False:\r\n",
        "  print(\"Teste 1\")\r\n",
        "\r\n",
        "else:\r\n",
        "  print(\"Teste 2\")\r\n",
        "\r\n",
        "print(\"Teste apenas o primeiro\")\r\n",
        "\r\n"
      ],
      "execution_count": 36,
      "outputs": [
        {
          "output_type": "stream",
          "text": [
            "Teste 2\n",
            "Teste apenas o primeiro\n"
          ],
          "name": "stdout"
        }
      ]
    },
    {
      "cell_type": "code",
      "metadata": {
        "colab": {
          "base_uri": "https://localhost:8080/"
        },
        "id": "jDWw0w_2eu_U",
        "outputId": "fff1ba45-b13d-41c3-e79e-4c50379adffe"
      },
      "source": [
        "# Uso do if, Elif, else if, else\r\n",
        "#Funções\r\n",
        "#Declaração de condições\r\n",
        "\r\n",
        "#else = caso contrário, tbm conhecido como else if - quando todas as condições são falsas, mas a sua condição  é True\r\n",
        "\r\n",
        "if False:\r\n",
        "  print(\"Teste 1\")\r\n",
        "\r\n",
        "elif True:\r\n",
        "  print(\"Teste 2\")\r\n",
        "\r\n",
        "elif True:\r\n",
        "  print(\"Teste 3\")\r\n",
        "\r\n",
        "print(\"Teste apenas o primeiro\")"
      ],
      "execution_count": 39,
      "outputs": [
        {
          "output_type": "stream",
          "text": [
            "Teste 2\n",
            "Teste apenas o primeiro\n"
          ],
          "name": "stdout"
        }
      ]
    },
    {
      "cell_type": "code",
      "metadata": {
        "colab": {
          "base_uri": "https://localhost:8080/"
        },
        "id": "yZdlsZNDkkRt",
        "outputId": "d3d437ab-44c8-48ac-b510-5b2c1df2e790"
      },
      "source": [
        "def exibe_nome():\r\n",
        "  print(\"Luzia Amorim\")\r\n",
        "\r\n",
        "exibe_nome()"
      ],
      "execution_count": 41,
      "outputs": [
        {
          "output_type": "stream",
          "text": [
            "Luzia Amorim\n"
          ],
          "name": "stdout"
        }
      ]
    },
    {
      "cell_type": "code",
      "metadata": {
        "colab": {
          "base_uri": "https://localhost:8080/"
        },
        "id": "oBukaFl-ozix",
        "outputId": "50a23bf8-3def-43c5-a67e-6c87a7bb77ad"
      },
      "source": [
        "# Declaração\r\n",
        "\r\n",
        "def exibir_faixa_etaria():\r\n",
        "    idade = int(input(\"Digite a idade:\"))\r\n",
        "    faixa_etaria1 = idade >= 0\r\n",
        "    faixa_etaria2 = idade >= 18\r\n",
        "    faixa_etaria3 = idade >= 40\r\n",
        "\r\n",
        "    print(\"Idade:\", idade)\r\n",
        "    # print(\"Faixa Etária 1:\", faixa_etaria1)\r\n",
        "    # print(\"Faixa Etária 2:\", faixa_etaria2)\r\n",
        "    # print(\"Faixa Etária 3:\", faixa_etaria3)\r\n",
        "\r\n",
        "    if faixa_etaria3:\r\n",
        "        print(\"Essa pessoa está na faixa etária 3\")\r\n",
        "    elif faixa_etaria2:\r\n",
        "        print(\"Essa pessoa está na faixa etária 2\")\r\n",
        "    elif faixa_etaria1:\r\n",
        "        print(\"Essa pessoa está na faixa etária 1\")\r\n",
        "    else:\r\n",
        "        print(\"Informe uma idade correta!\")\r\n",
        "        exibir_faixa_etaria()\r\n",
        "\r\n",
        "# Execução\r\n",
        "exibir_faixa_etaria()"
      ],
      "execution_count": 43,
      "outputs": [
        {
          "output_type": "stream",
          "text": [
            "Digite a idade:30\n",
            "Idade: 30\n",
            "Essa pessoa está na faixa etária 2\n"
          ],
          "name": "stdout"
        }
      ]
    },
    {
      "cell_type": "code",
      "metadata": {
        "colab": {
          "base_uri": "https://localhost:8080/"
        },
        "id": "KxBsYNxBo1nt",
        "outputId": "d66460b4-f814-48df-e4e4-675b9aca813a"
      },
      "source": [
        "# Declaração\r\n",
        "\r\n",
        "# 'idade' é o parâmetro necessário para que a função 'exibir_faixa_etaria()' execute.\r\n",
        "def exibir_faixa_etaria(idade):\r\n",
        "    faixa_etaria1 = idade >= 0\r\n",
        "    faixa_etaria2 = idade >= 18\r\n",
        "    faixa_etaria3 = idade >= 40\r\n",
        "\r\n",
        "    print(\"Idade:\", idade)\r\n",
        "    # print(\"Faixa Etária 1:\", faixa_etaria1)\r\n",
        "    # print(\"Faixa Etária 2:\", faixa_etaria2)\r\n",
        "    # print(\"Faixa Etária 3:\", faixa_etaria3)\r\n",
        "\r\n",
        "    if faixa_etaria3:\r\n",
        "        print(\"Essa pessoa está na faixa etária 3\")\r\n",
        "    elif faixa_etaria2:\r\n",
        "        print(\"Essa pessoa está na faixa etária 2\")\r\n",
        "    elif faixa_etaria1:\r\n",
        "        print(\"Essa pessoa está na faixa etária 1\")\r\n",
        "    else:\r\n",
        "        print(\"Informe uma idade correta!\")\r\n",
        "\r\n",
        "# Execução\r\n",
        "  # O valor '50' é um argumento da função 'exibir_faixa_etaria'. Esse valor entrará para a função\r\n",
        "  # como o parâmetro 'idade\r\n",
        "exibir_faixa_etaria(50)\r\n",
        "exibir_faixa_etaria(10)\r\n",
        "exibir_faixa_etaria(30)\r\n",
        "exibir_faixa_etaria(70)\r\n",
        "exibir_faixa_etaria(25)\r\n",
        "exibir_faixa_etaria(-10)"
      ],
      "execution_count": 42,
      "outputs": [
        {
          "output_type": "stream",
          "text": [
            "Idade: 50\n",
            "Essa pessoa está na faixa etária 3\n",
            "Idade: 10\n",
            "Essa pessoa está na faixa etária 1\n",
            "Idade: 30\n",
            "Essa pessoa está na faixa etária 2\n",
            "Idade: 70\n",
            "Essa pessoa está na faixa etária 3\n",
            "Idade: 25\n",
            "Essa pessoa está na faixa etária 2\n",
            "Idade: -10\n",
            "Informe uma idade correta!\n"
          ],
          "name": "stdout"
        }
      ]
    }
  ]
}