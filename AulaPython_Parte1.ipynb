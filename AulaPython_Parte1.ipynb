{
  "nbformat": 4,
  "nbformat_minor": 0,
  "metadata": {
    "colab": {
      "name": "AulaPython-Parte1.ipynb",
      "provenance": [],
      "authorship_tag": "ABX9TyOJ2ZH8g7Xe7Zg5UM50lE4V",
      "include_colab_link": true
    },
    "kernelspec": {
      "name": "python3",
      "display_name": "Python 3"
    }
  },
  "cells": [
    {
      "cell_type": "markdown",
      "metadata": {
        "id": "view-in-github",
        "colab_type": "text"
      },
      "source": [
        "<a href=\"https://colab.research.google.com/github/LuziaAm/Python/blob/main/AulaPython_Parte1.ipynb\" target=\"_parent\"><img src=\"https://colab.research.google.com/assets/colab-badge.svg\" alt=\"Open In Colab\"/></a>"
      ]
    },
    {
      "cell_type": "code",
      "metadata": {
        "colab": {
          "base_uri": "https://localhost:8080/"
        },
        "id": "L93eBl7j81SE",
        "outputId": "960cdb6f-3a6e-4e4a-ef1f-b2aaea5c51ed"
      },
      "source": [
        "print(1)\r\n",
        "print(\"Luzia\")\r\n",
        "print(1.5)"
      ],
      "execution_count": 27,
      "outputs": [
        {
          "output_type": "stream",
          "text": [
            "1\n",
            "Luzia\n",
            "1.5\n"
          ],
          "name": "stdout"
        }
      ]
    },
    {
      "cell_type": "code",
      "metadata": {
        "colab": {
          "base_uri": "https://localhost:8080/"
        },
        "id": "USWO2x1-_7-b",
        "outputId": "3df9562c-7873-4a0c-abcb-dedbd98ed732"
      },
      "source": [
        "numero = 2\r\n",
        "numero_deciaml = 1.5\r\n",
        "texto = \"Luzia\"\r\n",
        "maior_idade = True\r\n",
        "\r\n",
        "print(numero,type(numero))\r\n",
        "print(numero_deciaml, type(numero_deciaml))\r\n",
        "print(texto, type(texto))\r\n",
        "print(maior_idade, type(maior_idade))"
      ],
      "execution_count": 33,
      "outputs": [
        {
          "output_type": "stream",
          "text": [
            "2 <class 'int'>\n",
            "1.5 <class 'float'>\n",
            "Luzia <class 'str'>\n",
            "True <class 'bool'>\n"
          ],
          "name": "stdout"
        }
      ]
    },
    {
      "cell_type": "code",
      "metadata": {
        "colab": {
          "base_uri": "https://localhost:8080/"
        },
        "id": "ayzdOC8UG1Un",
        "outputId": "216b6223-cddb-48b8-f9eb-25450f292740"
      },
      "source": [
        "#concatenação\r\n",
        "\r\n",
        "print(\"5\" + \"5\") #texto entre \"\" concatenação\r\n",
        "print(5 + 5) #soma"
      ],
      "execution_count": 35,
      "outputs": [
        {
          "output_type": "stream",
          "text": [
            "55\n",
            "10\n"
          ],
          "name": "stdout"
        }
      ]
    },
    {
      "cell_type": "code",
      "metadata": {
        "colab": {
          "base_uri": "https://localhost:8080/"
        },
        "id": "WfVcgCH5Itra",
        "outputId": "2865b5ee-ddbb-447c-b4aa-d0688fdd3807"
      },
      "source": [
        "soma = 2 + 3.5\r\n",
        "subtracao = 3-8\r\n",
        "divisao = 5/2\r\n",
        "multiplicacao = 2.5 * 3\r\n",
        "exponenciacao = 2 ** 3\r\n",
        "div_inteira = 5 // 2\r\n",
        "resto_div = 5 % 2\r\n",
        "\r\n",
        "print(soma)\r\n",
        "print(subtracao)\r\n",
        "print(divisao)\r\n",
        "print(multiplicacao)\r\n",
        "print(exponenciacao)\r\n",
        "print(div_inteira)\r\n",
        "print(resto_div)"
      ],
      "execution_count": 40,
      "outputs": [
        {
          "output_type": "stream",
          "text": [
            "5.5\n",
            "-5\n",
            "2.5\n",
            "7.5\n",
            "8\n",
            "2\n",
            "1\n"
          ],
          "name": "stdout"
        }
      ]
    },
    {
      "cell_type": "code",
      "metadata": {
        "colab": {
          "base_uri": "https://localhost:8080/"
        },
        "id": "2COS0VNCMVlX",
        "outputId": "16e40c2f-4c9f-44aa-dfc1-ccad09a9951f"
      },
      "source": [
        "refeicao = 42.54\r\n",
        "taxa = 0.1\r\n",
        "total = refeicao * taxa\r\n",
        "preco_final = refeicao - total\r\n",
        "\r\n",
        "print(preco_final)"
      ],
      "execution_count": 41,
      "outputs": [
        {
          "output_type": "stream",
          "text": [
            "38.286\n"
          ],
          "name": "stdout"
        }
      ]
    }
  ]
}