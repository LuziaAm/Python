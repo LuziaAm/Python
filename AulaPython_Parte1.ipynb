{
  "nbformat": 4,
  "nbformat_minor": 0,
  "metadata": {
    "colab": {
      "name": "AulaPython-Parte1.ipynb",
      "provenance": [],
      "authorship_tag": "ABX9TyOoKdb6Yj5H7L8Nl0w9PZr4",
      "include_colab_link": true
    },
    "kernelspec": {
      "name": "python3",
      "display_name": "Python 3"
    }
  },
  "cells": [
    {
      "cell_type": "markdown",
      "metadata": {
        "id": "view-in-github",
        "colab_type": "text"
      },
      "source": [
        "<a href=\"https://colab.research.google.com/github/LuziaAm/Python/blob/main/AulaPython_Parte1.ipynb\" target=\"_parent\"><img src=\"https://colab.research.google.com/assets/colab-badge.svg\" alt=\"Open In Colab\"/></a>"
      ]
    },
    {
      "cell_type": "code",
      "metadata": {
        "colab": {
          "base_uri": "https://localhost:8080/"
        },
        "id": "L93eBl7j81SE",
        "outputId": "960cdb6f-3a6e-4e4a-ef1f-b2aaea5c51ed"
      },
      "source": [
        "print(1)\r\n",
        "print(\"Luzia\")\r\n",
        "print(1.5)"
      ],
      "execution_count": 27,
      "outputs": [
        {
          "output_type": "stream",
          "text": [
            "1\n",
            "Luzia\n",
            "1.5\n"
          ],
          "name": "stdout"
        }
      ]
    },
    {
      "cell_type": "code",
      "metadata": {
        "colab": {
          "base_uri": "https://localhost:8080/"
        },
        "id": "USWO2x1-_7-b",
        "outputId": "3df9562c-7873-4a0c-abcb-dedbd98ed732"
      },
      "source": [
        "numero = 2\r\n",
        "numero_deciaml = 1.5\r\n",
        "texto = \"Luzia\"\r\n",
        "maior_idade = True\r\n",
        "\r\n",
        "print(numero,type(numero))\r\n",
        "print(numero_deciaml, type(numero_deciaml))\r\n",
        "print(texto, type(texto))\r\n",
        "print(maior_idade, type(maior_idade))"
      ],
      "execution_count": 33,
      "outputs": [
        {
          "output_type": "stream",
          "text": [
            "2 <class 'int'>\n",
            "1.5 <class 'float'>\n",
            "Luzia <class 'str'>\n",
            "True <class 'bool'>\n"
          ],
          "name": "stdout"
        }
      ]
    },
    {
      "cell_type": "code",
      "metadata": {
        "colab": {
          "base_uri": "https://localhost:8080/"
        },
        "id": "ayzdOC8UG1Un",
        "outputId": "216b6223-cddb-48b8-f9eb-25450f292740"
      },
      "source": [
        "#concatenação\r\n",
        "\r\n",
        "print(\"5\" + \"5\") #texto entre \"\" concatenação\r\n",
        "print(5 + 5) #soma"
      ],
      "execution_count": 35,
      "outputs": [
        {
          "output_type": "stream",
          "text": [
            "55\n",
            "10\n"
          ],
          "name": "stdout"
        }
      ]
    },
    {
      "cell_type": "code",
      "metadata": {
        "colab": {
          "base_uri": "https://localhost:8080/"
        },
        "id": "WfVcgCH5Itra",
        "outputId": "2865b5ee-ddbb-447c-b4aa-d0688fdd3807"
      },
      "source": [
        "soma = 2 + 3.5\r\n",
        "subtracao = 3-8\r\n",
        "divisao = 5/2\r\n",
        "multiplicacao = 2.5 * 3\r\n",
        "exponenciacao = 2 ** 3\r\n",
        "div_inteira = 5 // 2\r\n",
        "resto_div = 5 % 2\r\n",
        "\r\n",
        "print(soma)\r\n",
        "print(subtracao)\r\n",
        "print(divisao)\r\n",
        "print(multiplicacao)\r\n",
        "print(exponenciacao)\r\n",
        "print(div_inteira)\r\n",
        "print(resto_div)"
      ],
      "execution_count": 40,
      "outputs": [
        {
          "output_type": "stream",
          "text": [
            "5.5\n",
            "-5\n",
            "2.5\n",
            "7.5\n",
            "8\n",
            "2\n",
            "1\n"
          ],
          "name": "stdout"
        }
      ]
    },
    {
      "cell_type": "code",
      "metadata": {
        "colab": {
          "base_uri": "https://localhost:8080/"
        },
        "id": "2COS0VNCMVlX",
        "outputId": "4a321343-3ffb-4770-ae57-753093e86815"
      },
      "source": [
        "refeicao = 42.54\r\n",
        "taxa = 10/100 * refeicao\r\n",
        "preco_final = refeicao + taxa\r\n",
        "\r\n",
        "print(preco_final)"
      ],
      "execution_count": 50,
      "outputs": [
        {
          "output_type": "stream",
          "text": [
            "46.794\n"
          ],
          "name": "stdout"
        }
      ]
    },
    {
      "cell_type": "code",
      "metadata": {
        "colab": {
          "base_uri": "https://localhost:8080/"
        },
        "id": "c_oEPj4QRN2_",
        "outputId": "8239553d-0dfa-4a0e-b9a7-4c0619823050"
      },
      "source": [
        "vlr_refeicao =  float (input(\"Digite o valor da refeição: R$ \"))\r\n",
        "taxa = int (input(\"Qual o valor da taxa: \"))\r\n",
        "percent = 100\r\n",
        "valor = taxa/percent * vlr_refeicao\r\n",
        "preco_final = vlr_refeicao + valor\r\n",
        "print(f\"O valor da refeição + o serviço é R$ {preco_final:>+10.2f} reais\") #>5 -> 5 espaços antes e .2f duas casas decimais somente\r\n"
      ],
      "execution_count": 88,
      "outputs": [
        {
          "output_type": "stream",
          "text": [
            "Digite o valor da refeição: R$ 20\n",
            "Qual o valor da taxa: 10\n",
            "O valor da refeição + o serviço é R$     +22.00 reais\n"
          ],
          "name": "stdout"
        }
      ]
    }
  ]
}