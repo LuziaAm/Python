{
  "nbformat": 4,
  "nbformat_minor": 0,
  "metadata": {
    "colab": {
      "name": "AulaPython-Parte1.ipynb",
      "provenance": [],
      "authorship_tag": "ABX9TyNaxJyg9ntXQpYQ2aijrvvy",
      "include_colab_link": true
    },
    "kernelspec": {
      "name": "python3",
      "display_name": "Python 3"
    }
  },
  "cells": [
    {
      "cell_type": "markdown",
      "metadata": {
        "id": "view-in-github",
        "colab_type": "text"
      },
      "source": [
        "<a href=\"https://colab.research.google.com/github/LuziaAm/Python/blob/main/AulaPython_Parte1.ipynb\" target=\"_parent\"><img src=\"https://colab.research.google.com/assets/colab-badge.svg\" alt=\"Open In Colab\"/></a>"
      ]
    },
    {
      "cell_type": "code",
      "metadata": {
        "colab": {
          "base_uri": "https://localhost:8080/"
        },
        "id": "L93eBl7j81SE",
        "outputId": "960cdb6f-3a6e-4e4a-ef1f-b2aaea5c51ed"
      },
      "source": [
        "print(1)\r\n",
        "print(\"Luzia\")\r\n",
        "print(1.5)"
      ],
      "execution_count": 27,
      "outputs": [
        {
          "output_type": "stream",
          "text": [
            "1\n",
            "Luzia\n",
            "1.5\n"
          ],
          "name": "stdout"
        }
      ]
    },
    {
      "cell_type": "code",
      "metadata": {
        "colab": {
          "base_uri": "https://localhost:8080/"
        },
        "id": "USWO2x1-_7-b",
        "outputId": "3df9562c-7873-4a0c-abcb-dedbd98ed732"
      },
      "source": [
        "numero = 2\r\n",
        "numero_deciaml = 1.5\r\n",
        "texto = \"Luzia\"\r\n",
        "maior_idade = True\r\n",
        "\r\n",
        "print(numero,type(numero))\r\n",
        "print(numero_deciaml, type(numero_deciaml))\r\n",
        "print(texto, type(texto))\r\n",
        "print(maior_idade, type(maior_idade))"
      ],
      "execution_count": 33,
      "outputs": [
        {
          "output_type": "stream",
          "text": [
            "2 <class 'int'>\n",
            "1.5 <class 'float'>\n",
            "Luzia <class 'str'>\n",
            "True <class 'bool'>\n"
          ],
          "name": "stdout"
        }
      ]
    }
  ]
}