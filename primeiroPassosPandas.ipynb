{
  "nbformat": 4,
  "nbformat_minor": 0,
  "metadata": {
    "colab": {
      "name": "primeiroPassosPandas.ipynb",
      "provenance": [],
      "collapsed_sections": [],
      "authorship_tag": "ABX9TyPS+7vNqMXy/SXqV5v3QnTj",
      "include_colab_link": true
    },
    "kernelspec": {
      "name": "python3",
      "display_name": "Python 3"
    },
    "language_info": {
      "name": "python"
    }
  },
  "cells": [
    {
      "cell_type": "markdown",
      "metadata": {
        "id": "view-in-github",
        "colab_type": "text"
      },
      "source": [
        "<a href=\"https://colab.research.google.com/github/LuziaAm/Python/blob/LuziaAm%2Fgitpod-setup/primeiroPassosPandas.ipynb\" target=\"_parent\"><img src=\"https://colab.research.google.com/assets/colab-badge.svg\" alt=\"Open In Colab\"/></a>"
      ]
    },
    {
      "cell_type": "code",
      "metadata": {
        "id": "4866yvCzwICu"
      },
      "source": [
        "import pandas as pd\n",
        "import numpy as np\n",
        "import matplotlib.pyplot as plt\n",
        "\n",
        "%matplotlib inline"
      ],
      "execution_count": null,
      "outputs": []
    },
    {
      "cell_type": "code",
      "metadata": {
        "colab": {
          "base_uri": "https://localhost:8080/"
        },
        "id": "U6unuhbZS75J",
        "outputId": "f454faa3-aefb-491d-ea68-4f7ff14406c0"
      },
      "source": [
        "s = pd.Series([1, 3, 5, np.nan, 6, 8])\n",
        "\n",
        "s"
      ],
      "execution_count": null,
      "outputs": [
        {
          "output_type": "execute_result",
          "data": {
            "text/plain": [
              "0    1.0\n",
              "1    3.0\n",
              "2    5.0\n",
              "3    NaN\n",
              "4    6.0\n",
              "5    8.0\n",
              "dtype: float64"
            ]
          },
          "metadata": {
            "tags": []
          },
          "execution_count": 2
        }
      ]
    },
    {
      "cell_type": "code",
      "metadata": {
        "id": "5S6JTg7XTfbc",
        "colab": {
          "base_uri": "https://localhost:8080/",
          "height": 173
        },
        "outputId": "9e61992d-eca0-4bdf-fb6b-e0a0db36bf07"
      },
      "source": [
        "df2 = pd.DataFrame(\n",
        "   ...:     {\n",
        "   ...:         \"A\": 1.0,\n",
        "   ...:         \"B\": pd.Timestamp(\"20130102\"),\n",
        "   ...:         \"C\": pd.Series(1, index=list(range(4)), dtype=\"float32\"),\n",
        "   ...:         \"D\": np.array([3] * 4, dtype=\"int32\"),\n",
        "   ...:         \"E\": pd.Categorical([\"test\", \"train\", \"test\", \"train\"]),\n",
        "   ...:         \"F\": \"foo\",\n",
        "   ...:     }\n",
        "   ...: )\n",
        "   ...: \n",
        "\n",
        "df2"
      ],
      "execution_count": null,
      "outputs": [
        {
          "output_type": "execute_result",
          "data": {
            "text/html": [
              "<div>\n",
              "<style scoped>\n",
              "    .dataframe tbody tr th:only-of-type {\n",
              "        vertical-align: middle;\n",
              "    }\n",
              "\n",
              "    .dataframe tbody tr th {\n",
              "        vertical-align: top;\n",
              "    }\n",
              "\n",
              "    .dataframe thead th {\n",
              "        text-align: right;\n",
              "    }\n",
              "</style>\n",
              "<table border=\"1\" class=\"dataframe\">\n",
              "  <thead>\n",
              "    <tr style=\"text-align: right;\">\n",
              "      <th></th>\n",
              "      <th>A</th>\n",
              "      <th>B</th>\n",
              "      <th>C</th>\n",
              "      <th>D</th>\n",
              "      <th>E</th>\n",
              "      <th>F</th>\n",
              "    </tr>\n",
              "  </thead>\n",
              "  <tbody>\n",
              "    <tr>\n",
              "      <th>0</th>\n",
              "      <td>1.0</td>\n",
              "      <td>2013-01-02</td>\n",
              "      <td>1.0</td>\n",
              "      <td>3</td>\n",
              "      <td>test</td>\n",
              "      <td>foo</td>\n",
              "    </tr>\n",
              "    <tr>\n",
              "      <th>1</th>\n",
              "      <td>1.0</td>\n",
              "      <td>2013-01-02</td>\n",
              "      <td>1.0</td>\n",
              "      <td>3</td>\n",
              "      <td>train</td>\n",
              "      <td>foo</td>\n",
              "    </tr>\n",
              "    <tr>\n",
              "      <th>2</th>\n",
              "      <td>1.0</td>\n",
              "      <td>2013-01-02</td>\n",
              "      <td>1.0</td>\n",
              "      <td>3</td>\n",
              "      <td>test</td>\n",
              "      <td>foo</td>\n",
              "    </tr>\n",
              "    <tr>\n",
              "      <th>3</th>\n",
              "      <td>1.0</td>\n",
              "      <td>2013-01-02</td>\n",
              "      <td>1.0</td>\n",
              "      <td>3</td>\n",
              "      <td>train</td>\n",
              "      <td>foo</td>\n",
              "    </tr>\n",
              "  </tbody>\n",
              "</table>\n",
              "</div>"
            ],
            "text/plain": [
              "     A          B    C  D      E    F\n",
              "0  1.0 2013-01-02  1.0  3   test  foo\n",
              "1  1.0 2013-01-02  1.0  3  train  foo\n",
              "2  1.0 2013-01-02  1.0  3   test  foo\n",
              "3  1.0 2013-01-02  1.0  3  train  foo"
            ]
          },
          "metadata": {
            "tags": []
          },
          "execution_count": 14
        }
      ]
    },
    {
      "cell_type": "code",
      "metadata": {
        "colab": {
          "base_uri": "https://localhost:8080/"
        },
        "id": "g1kOfCgbiuwH",
        "outputId": "af30be6b-3c46-4756-cd8b-fff4d7879d36"
      },
      "source": [
        "df2.to_numpy()"
      ],
      "execution_count": null,
      "outputs": [
        {
          "output_type": "execute_result",
          "data": {
            "text/plain": [
              "array([[1.0, Timestamp('2013-01-02 00:00:00'), 1.0, 3, 'test', 'foo'],\n",
              "       [1.0, Timestamp('2013-01-02 00:00:00'), 1.0, 3, 'train', 'foo'],\n",
              "       [1.0, Timestamp('2013-01-02 00:00:00'), 1.0, 3, 'test', 'foo'],\n",
              "       [1.0, Timestamp('2013-01-02 00:00:00'), 1.0, 3, 'train', 'foo']],\n",
              "      dtype=object)"
            ]
          },
          "metadata": {
            "tags": []
          },
          "execution_count": 15
        }
      ]
    },
    {
      "cell_type": "code",
      "metadata": {
        "id": "zf6umPAdTk9B",
        "colab": {
          "base_uri": "https://localhost:8080/"
        },
        "outputId": "ab077f3c-b25e-453c-d138-ee66706d000a"
      },
      "source": [
        "df2.dtypes"
      ],
      "execution_count": null,
      "outputs": [
        {
          "output_type": "execute_result",
          "data": {
            "text/plain": [
              "A           float64\n",
              "B    datetime64[ns]\n",
              "C           float32\n",
              "D             int32\n",
              "E          category\n",
              "F            object\n",
              "dtype: object"
            ]
          },
          "metadata": {
            "tags": []
          },
          "execution_count": 22
        }
      ]
    },
    {
      "cell_type": "code",
      "metadata": {
        "colab": {
          "base_uri": "https://localhost:8080/",
          "height": 129
        },
        "id": "GWWprZLvYt1s",
        "outputId": "ff4aaba6-4ca5-4f06-f11a-1bc8823a4220"
      },
      "source": [
        "##df2.<TAB>  # noqa: E225, E999\n",
        "df2.A                  df2.bool\n",
        "df2.abs                df2.boxplot\n",
        "df2.add                df2.C\n",
        "df2.add_prefix         df2.clip\n",
        "df2.add_suffix         df2.columns\n",
        "df2.align              df2.copy\n",
        "df2.all                df2.count\n",
        "df2.any                df2.combine\n",
        "df2.append             df2.D\n",
        "df2.apply              df2.describe\n",
        "df2.applymap           df2.diff\n",
        "df2.B                  df2.duplicated"
      ],
      "execution_count": null,
      "outputs": [
        {
          "output_type": "error",
          "ename": "SyntaxError",
          "evalue": "ignored",
          "traceback": [
            "\u001b[0;36m  File \u001b[0;32m\"<ipython-input-18-af1af41f79a2>\"\u001b[0;36m, line \u001b[0;32m2\u001b[0m\n\u001b[0;31m    df2.A                  df2.bool\u001b[0m\n\u001b[0m                             ^\u001b[0m\n\u001b[0;31mSyntaxError\u001b[0m\u001b[0;31m:\u001b[0m invalid syntax\n"
          ]
        }
      ]
    },
    {
      "cell_type": "code",
      "metadata": {
        "colab": {
          "base_uri": "https://localhost:8080/",
          "height": 204
        },
        "id": "9gLNJoNOH670",
        "outputId": "6675e3e8-2dcb-4d26-be52-c3c217f54d8e"
      },
      "source": [
        "df = pd.DataFrame({'Aluno' : [\"Luzia\", \"Abbie\", \"Harry\", \"Julia\", \"Carrie\"],\n",
        "                   'Faltas' : [3,4,2,1,4],\n",
        "                   'Prova' : [2,7,5,10,6],\n",
        "                   'Seminário': [8.5,7.5,9.0,7.5,8.0]})\n",
        "df"
      ],
      "execution_count": null,
      "outputs": [
        {
          "output_type": "execute_result",
          "data": {
            "text/html": [
              "<div>\n",
              "<style scoped>\n",
              "    .dataframe tbody tr th:only-of-type {\n",
              "        vertical-align: middle;\n",
              "    }\n",
              "\n",
              "    .dataframe tbody tr th {\n",
              "        vertical-align: top;\n",
              "    }\n",
              "\n",
              "    .dataframe thead th {\n",
              "        text-align: right;\n",
              "    }\n",
              "</style>\n",
              "<table border=\"1\" class=\"dataframe\">\n",
              "  <thead>\n",
              "    <tr style=\"text-align: right;\">\n",
              "      <th></th>\n",
              "      <th>Aluno</th>\n",
              "      <th>Faltas</th>\n",
              "      <th>Prova</th>\n",
              "      <th>Seminário</th>\n",
              "    </tr>\n",
              "  </thead>\n",
              "  <tbody>\n",
              "    <tr>\n",
              "      <th>0</th>\n",
              "      <td>Luzia</td>\n",
              "      <td>3</td>\n",
              "      <td>2</td>\n",
              "      <td>8.5</td>\n",
              "    </tr>\n",
              "    <tr>\n",
              "      <th>1</th>\n",
              "      <td>Abbie</td>\n",
              "      <td>4</td>\n",
              "      <td>7</td>\n",
              "      <td>7.5</td>\n",
              "    </tr>\n",
              "    <tr>\n",
              "      <th>2</th>\n",
              "      <td>Harry</td>\n",
              "      <td>2</td>\n",
              "      <td>5</td>\n",
              "      <td>9.0</td>\n",
              "    </tr>\n",
              "    <tr>\n",
              "      <th>3</th>\n",
              "      <td>Julia</td>\n",
              "      <td>1</td>\n",
              "      <td>10</td>\n",
              "      <td>7.5</td>\n",
              "    </tr>\n",
              "    <tr>\n",
              "      <th>4</th>\n",
              "      <td>Carrie</td>\n",
              "      <td>4</td>\n",
              "      <td>6</td>\n",
              "      <td>8.0</td>\n",
              "    </tr>\n",
              "  </tbody>\n",
              "</table>\n",
              "</div>"
            ],
            "text/plain": [
              "    Aluno  Faltas  Prova  Seminário\n",
              "0   Luzia       3      2        8.5\n",
              "1   Abbie       4      7        7.5\n",
              "2   Harry       2      5        9.0\n",
              "3   Julia       1     10        7.5\n",
              "4  Carrie       4      6        8.0"
            ]
          },
          "metadata": {
            "tags": []
          },
          "execution_count": 3
        }
      ]
    },
    {
      "cell_type": "code",
      "metadata": {
        "colab": {
          "base_uri": "https://localhost:8080/",
          "height": 235
        },
        "id": "MooEgOEQTIaw",
        "outputId": "6ed76008-b225-4322-dce2-b1aad5126fea"
      },
      "source": [
        "dates = pd.date_range(\"20210101\", periods=6)\n",
        "\n",
        "dates\n",
        "\n",
        "df = pd.DataFrame(np.random.randn(6, 4), index=dates, columns=list(\"ABCD\"))\n",
        "\n",
        "df"
      ],
      "execution_count": null,
      "outputs": [
        {
          "output_type": "execute_result",
          "data": {
            "text/html": [
              "<div>\n",
              "<style scoped>\n",
              "    .dataframe tbody tr th:only-of-type {\n",
              "        vertical-align: middle;\n",
              "    }\n",
              "\n",
              "    .dataframe tbody tr th {\n",
              "        vertical-align: top;\n",
              "    }\n",
              "\n",
              "    .dataframe thead th {\n",
              "        text-align: right;\n",
              "    }\n",
              "</style>\n",
              "<table border=\"1\" class=\"dataframe\">\n",
              "  <thead>\n",
              "    <tr style=\"text-align: right;\">\n",
              "      <th></th>\n",
              "      <th>A</th>\n",
              "      <th>B</th>\n",
              "      <th>C</th>\n",
              "      <th>D</th>\n",
              "    </tr>\n",
              "  </thead>\n",
              "  <tbody>\n",
              "    <tr>\n",
              "      <th>2021-01-01</th>\n",
              "      <td>-0.198790</td>\n",
              "      <td>0.599407</td>\n",
              "      <td>0.652133</td>\n",
              "      <td>0.542408</td>\n",
              "    </tr>\n",
              "    <tr>\n",
              "      <th>2021-01-02</th>\n",
              "      <td>-0.003839</td>\n",
              "      <td>1.214504</td>\n",
              "      <td>-0.610201</td>\n",
              "      <td>0.040855</td>\n",
              "    </tr>\n",
              "    <tr>\n",
              "      <th>2021-01-03</th>\n",
              "      <td>-0.211710</td>\n",
              "      <td>-0.445601</td>\n",
              "      <td>-0.599949</td>\n",
              "      <td>1.387780</td>\n",
              "    </tr>\n",
              "    <tr>\n",
              "      <th>2021-01-04</th>\n",
              "      <td>1.114239</td>\n",
              "      <td>-1.073496</td>\n",
              "      <td>-0.759942</td>\n",
              "      <td>-0.086227</td>\n",
              "    </tr>\n",
              "    <tr>\n",
              "      <th>2021-01-05</th>\n",
              "      <td>2.409993</td>\n",
              "      <td>-2.077750</td>\n",
              "      <td>-1.037890</td>\n",
              "      <td>-0.242985</td>\n",
              "    </tr>\n",
              "    <tr>\n",
              "      <th>2021-01-06</th>\n",
              "      <td>0.111223</td>\n",
              "      <td>-0.494999</td>\n",
              "      <td>-1.025259</td>\n",
              "      <td>2.052722</td>\n",
              "    </tr>\n",
              "  </tbody>\n",
              "</table>\n",
              "</div>"
            ],
            "text/plain": [
              "                   A         B         C         D\n",
              "2021-01-01 -0.198790  0.599407  0.652133  0.542408\n",
              "2021-01-02 -0.003839  1.214504 -0.610201  0.040855\n",
              "2021-01-03 -0.211710 -0.445601 -0.599949  1.387780\n",
              "2021-01-04  1.114239 -1.073496 -0.759942 -0.086227\n",
              "2021-01-05  2.409993 -2.077750 -1.037890 -0.242985\n",
              "2021-01-06  0.111223 -0.494999 -1.025259  2.052722"
            ]
          },
          "metadata": {
            "tags": []
          },
          "execution_count": 22
        }
      ]
    },
    {
      "cell_type": "code",
      "metadata": {
        "colab": {
          "base_uri": "https://localhost:8080/",
          "height": 142
        },
        "id": "hC3mzIKiY8E9",
        "outputId": "8f3bd61c-4342-4450-9b1b-a48d784d604d"
      },
      "source": [
        "df.head(3)"
      ],
      "execution_count": null,
      "outputs": [
        {
          "output_type": "execute_result",
          "data": {
            "text/html": [
              "<div>\n",
              "<style scoped>\n",
              "    .dataframe tbody tr th:only-of-type {\n",
              "        vertical-align: middle;\n",
              "    }\n",
              "\n",
              "    .dataframe tbody tr th {\n",
              "        vertical-align: top;\n",
              "    }\n",
              "\n",
              "    .dataframe thead th {\n",
              "        text-align: right;\n",
              "    }\n",
              "</style>\n",
              "<table border=\"1\" class=\"dataframe\">\n",
              "  <thead>\n",
              "    <tr style=\"text-align: right;\">\n",
              "      <th></th>\n",
              "      <th>A</th>\n",
              "      <th>B</th>\n",
              "      <th>C</th>\n",
              "      <th>D</th>\n",
              "    </tr>\n",
              "  </thead>\n",
              "  <tbody>\n",
              "    <tr>\n",
              "      <th>2021-01-01</th>\n",
              "      <td>-0.198790</td>\n",
              "      <td>0.599407</td>\n",
              "      <td>0.652133</td>\n",
              "      <td>0.542408</td>\n",
              "    </tr>\n",
              "    <tr>\n",
              "      <th>2021-01-02</th>\n",
              "      <td>-0.003839</td>\n",
              "      <td>1.214504</td>\n",
              "      <td>-0.610201</td>\n",
              "      <td>0.040855</td>\n",
              "    </tr>\n",
              "    <tr>\n",
              "      <th>2021-01-03</th>\n",
              "      <td>-0.211710</td>\n",
              "      <td>-0.445601</td>\n",
              "      <td>-0.599949</td>\n",
              "      <td>1.387780</td>\n",
              "    </tr>\n",
              "  </tbody>\n",
              "</table>\n",
              "</div>"
            ],
            "text/plain": [
              "                   A         B         C         D\n",
              "2021-01-01 -0.198790  0.599407  0.652133  0.542408\n",
              "2021-01-02 -0.003839  1.214504 -0.610201  0.040855\n",
              "2021-01-03 -0.211710 -0.445601 -0.599949  1.387780"
            ]
          },
          "metadata": {
            "tags": []
          },
          "execution_count": 23
        }
      ]
    },
    {
      "cell_type": "code",
      "metadata": {
        "colab": {
          "base_uri": "https://localhost:8080/",
          "height": 142
        },
        "id": "LOaePqQwZLsx",
        "outputId": "5625630a-21d3-4ff5-b39e-dfc8d2e7759a"
      },
      "source": [
        "df.tail(3)"
      ],
      "execution_count": null,
      "outputs": [
        {
          "output_type": "execute_result",
          "data": {
            "text/html": [
              "<div>\n",
              "<style scoped>\n",
              "    .dataframe tbody tr th:only-of-type {\n",
              "        vertical-align: middle;\n",
              "    }\n",
              "\n",
              "    .dataframe tbody tr th {\n",
              "        vertical-align: top;\n",
              "    }\n",
              "\n",
              "    .dataframe thead th {\n",
              "        text-align: right;\n",
              "    }\n",
              "</style>\n",
              "<table border=\"1\" class=\"dataframe\">\n",
              "  <thead>\n",
              "    <tr style=\"text-align: right;\">\n",
              "      <th></th>\n",
              "      <th>A</th>\n",
              "      <th>B</th>\n",
              "      <th>C</th>\n",
              "      <th>D</th>\n",
              "    </tr>\n",
              "  </thead>\n",
              "  <tbody>\n",
              "    <tr>\n",
              "      <th>2021-01-04</th>\n",
              "      <td>1.114239</td>\n",
              "      <td>-1.073496</td>\n",
              "      <td>-0.759942</td>\n",
              "      <td>-0.086227</td>\n",
              "    </tr>\n",
              "    <tr>\n",
              "      <th>2021-01-05</th>\n",
              "      <td>2.409993</td>\n",
              "      <td>-2.077750</td>\n",
              "      <td>-1.037890</td>\n",
              "      <td>-0.242985</td>\n",
              "    </tr>\n",
              "    <tr>\n",
              "      <th>2021-01-06</th>\n",
              "      <td>0.111223</td>\n",
              "      <td>-0.494999</td>\n",
              "      <td>-1.025259</td>\n",
              "      <td>2.052722</td>\n",
              "    </tr>\n",
              "  </tbody>\n",
              "</table>\n",
              "</div>"
            ],
            "text/plain": [
              "                   A         B         C         D\n",
              "2021-01-04  1.114239 -1.073496 -0.759942 -0.086227\n",
              "2021-01-05  2.409993 -2.077750 -1.037890 -0.242985\n",
              "2021-01-06  0.111223 -0.494999 -1.025259  2.052722"
            ]
          },
          "metadata": {
            "tags": []
          },
          "execution_count": 24
        }
      ]
    },
    {
      "cell_type": "code",
      "metadata": {
        "colab": {
          "base_uri": "https://localhost:8080/"
        },
        "id": "3vxwcAOaZeMw",
        "outputId": "9f5e8157-5fbc-42c3-894c-4334b9fc5361"
      },
      "source": [
        "df.index"
      ],
      "execution_count": null,
      "outputs": [
        {
          "output_type": "execute_result",
          "data": {
            "text/plain": [
              "DatetimeIndex(['2021-01-01', '2021-01-02', '2021-01-03', '2021-01-04',\n",
              "               '2021-01-05', '2021-01-06'],\n",
              "              dtype='datetime64[ns]', freq='D')"
            ]
          },
          "metadata": {
            "tags": []
          },
          "execution_count": 26
        }
      ]
    },
    {
      "cell_type": "code",
      "metadata": {
        "colab": {
          "base_uri": "https://localhost:8080/"
        },
        "id": "ZQbtw2eCZofv",
        "outputId": "53c43c88-69fa-4fa0-af38-25bb6a17ca2d"
      },
      "source": [
        "df.columns"
      ],
      "execution_count": null,
      "outputs": [
        {
          "output_type": "execute_result",
          "data": {
            "text/plain": [
              "Index(['A', 'B', 'C', 'D'], dtype='object')"
            ]
          },
          "metadata": {
            "tags": []
          },
          "execution_count": 27
        }
      ]
    },
    {
      "cell_type": "code",
      "metadata": {
        "colab": {
          "base_uri": "https://localhost:8080/",
          "height": 235
        },
        "id": "Jkael65yLluX",
        "outputId": "1a61accd-6154-4c24-8c31-ac716dbe13ac"
      },
      "source": [
        "np.exp(df)"
      ],
      "execution_count": 35,
      "outputs": [
        {
          "output_type": "execute_result",
          "data": {
            "text/html": [
              "<div>\n",
              "<style scoped>\n",
              "    .dataframe tbody tr th:only-of-type {\n",
              "        vertical-align: middle;\n",
              "    }\n",
              "\n",
              "    .dataframe tbody tr th {\n",
              "        vertical-align: top;\n",
              "    }\n",
              "\n",
              "    .dataframe thead th {\n",
              "        text-align: right;\n",
              "    }\n",
              "</style>\n",
              "<table border=\"1\" class=\"dataframe\">\n",
              "  <thead>\n",
              "    <tr style=\"text-align: right;\">\n",
              "      <th></th>\n",
              "      <th>A</th>\n",
              "      <th>B</th>\n",
              "      <th>C</th>\n",
              "      <th>D</th>\n",
              "    </tr>\n",
              "  </thead>\n",
              "  <tbody>\n",
              "    <tr>\n",
              "      <th>2021-01-01</th>\n",
              "      <td>0.819722</td>\n",
              "      <td>1.821039</td>\n",
              "      <td>1.919630</td>\n",
              "      <td>1.720143</td>\n",
              "    </tr>\n",
              "    <tr>\n",
              "      <th>2021-01-02</th>\n",
              "      <td>0.996169</td>\n",
              "      <td>3.368623</td>\n",
              "      <td>0.543242</td>\n",
              "      <td>1.041701</td>\n",
              "    </tr>\n",
              "    <tr>\n",
              "      <th>2021-01-03</th>\n",
              "      <td>0.809199</td>\n",
              "      <td>0.640439</td>\n",
              "      <td>0.548840</td>\n",
              "      <td>4.005947</td>\n",
              "    </tr>\n",
              "    <tr>\n",
              "      <th>2021-01-04</th>\n",
              "      <td>3.047248</td>\n",
              "      <td>0.341812</td>\n",
              "      <td>0.467694</td>\n",
              "      <td>0.917386</td>\n",
              "    </tr>\n",
              "    <tr>\n",
              "      <th>2021-01-05</th>\n",
              "      <td>11.133880</td>\n",
              "      <td>0.125212</td>\n",
              "      <td>0.354201</td>\n",
              "      <td>0.784283</td>\n",
              "    </tr>\n",
              "    <tr>\n",
              "      <th>2021-01-06</th>\n",
              "      <td>1.117645</td>\n",
              "      <td>0.609572</td>\n",
              "      <td>0.358704</td>\n",
              "      <td>7.789073</td>\n",
              "    </tr>\n",
              "  </tbody>\n",
              "</table>\n",
              "</div>"
            ],
            "text/plain": [
              "                    A         B         C         D\n",
              "2021-01-01   0.819722  1.821039  1.919630  1.720143\n",
              "2021-01-02   0.996169  3.368623  0.543242  1.041701\n",
              "2021-01-03   0.809199  0.640439  0.548840  4.005947\n",
              "2021-01-04   3.047248  0.341812  0.467694  0.917386\n",
              "2021-01-05  11.133880  0.125212  0.354201  0.784283\n",
              "2021-01-06   1.117645  0.609572  0.358704  7.789073"
            ]
          },
          "metadata": {
            "tags": []
          },
          "execution_count": 35
        }
      ]
    },
    {
      "cell_type": "code",
      "metadata": {
        "colab": {
          "base_uri": "https://localhost:8080/"
        },
        "id": "v00583bIifeH",
        "outputId": "45f9752c-069c-4384-af34-f3aa9eeb8cca"
      },
      "source": [
        "df.to_numpy()"
      ],
      "execution_count": null,
      "outputs": [
        {
          "output_type": "execute_result",
          "data": {
            "text/plain": [
              "array([[-0.1987897 ,  0.59940728,  0.6521326 ,  0.54240761],\n",
              "       [-0.00383875,  1.21450412, -0.61020129,  0.04085526],\n",
              "       [-0.21171027, -0.44560105, -0.59994912,  1.38778004],\n",
              "       [ 1.11423894, -1.07349551, -0.75994184, -0.08622744],\n",
              "       [ 2.40999272, -2.07774985, -1.03789012, -0.24298548],\n",
              "       [ 0.11122347, -0.49499888, -1.02525871,  2.05272191]])"
            ]
          },
          "metadata": {
            "tags": []
          },
          "execution_count": 28
        }
      ]
    },
    {
      "cell_type": "code",
      "metadata": {
        "colab": {
          "base_uri": "https://localhost:8080/",
          "height": 297
        },
        "id": "YToo6RFij9DR",
        "outputId": "4e2ce920-1697-4274-a0e4-dfe3ac38bb1f"
      },
      "source": [
        "df.describe()"
      ],
      "execution_count": null,
      "outputs": [
        {
          "output_type": "execute_result",
          "data": {
            "text/html": [
              "<div>\n",
              "<style scoped>\n",
              "    .dataframe tbody tr th:only-of-type {\n",
              "        vertical-align: middle;\n",
              "    }\n",
              "\n",
              "    .dataframe tbody tr th {\n",
              "        vertical-align: top;\n",
              "    }\n",
              "\n",
              "    .dataframe thead th {\n",
              "        text-align: right;\n",
              "    }\n",
              "</style>\n",
              "<table border=\"1\" class=\"dataframe\">\n",
              "  <thead>\n",
              "    <tr style=\"text-align: right;\">\n",
              "      <th></th>\n",
              "      <th>A</th>\n",
              "      <th>B</th>\n",
              "      <th>C</th>\n",
              "      <th>D</th>\n",
              "    </tr>\n",
              "  </thead>\n",
              "  <tbody>\n",
              "    <tr>\n",
              "      <th>count</th>\n",
              "      <td>6.000000</td>\n",
              "      <td>6.000000</td>\n",
              "      <td>6.000000</td>\n",
              "      <td>6.000000</td>\n",
              "    </tr>\n",
              "    <tr>\n",
              "      <th>mean</th>\n",
              "      <td>0.536853</td>\n",
              "      <td>-0.379656</td>\n",
              "      <td>-0.563518</td>\n",
              "      <td>0.615759</td>\n",
              "    </tr>\n",
              "    <tr>\n",
              "      <th>std</th>\n",
              "      <td>1.040870</td>\n",
              "      <td>1.173243</td>\n",
              "      <td>0.625800</td>\n",
              "      <td>0.919456</td>\n",
              "    </tr>\n",
              "    <tr>\n",
              "      <th>min</th>\n",
              "      <td>-0.211710</td>\n",
              "      <td>-2.077750</td>\n",
              "      <td>-1.037890</td>\n",
              "      <td>-0.242985</td>\n",
              "    </tr>\n",
              "    <tr>\n",
              "      <th>25%</th>\n",
              "      <td>-0.150052</td>\n",
              "      <td>-0.928871</td>\n",
              "      <td>-0.958929</td>\n",
              "      <td>-0.054457</td>\n",
              "    </tr>\n",
              "    <tr>\n",
              "      <th>50%</th>\n",
              "      <td>0.053692</td>\n",
              "      <td>-0.470300</td>\n",
              "      <td>-0.685072</td>\n",
              "      <td>0.291631</td>\n",
              "    </tr>\n",
              "    <tr>\n",
              "      <th>75%</th>\n",
              "      <td>0.863485</td>\n",
              "      <td>0.338155</td>\n",
              "      <td>-0.602512</td>\n",
              "      <td>1.176437</td>\n",
              "    </tr>\n",
              "    <tr>\n",
              "      <th>max</th>\n",
              "      <td>2.409993</td>\n",
              "      <td>1.214504</td>\n",
              "      <td>0.652133</td>\n",
              "      <td>2.052722</td>\n",
              "    </tr>\n",
              "  </tbody>\n",
              "</table>\n",
              "</div>"
            ],
            "text/plain": [
              "              A         B         C         D\n",
              "count  6.000000  6.000000  6.000000  6.000000\n",
              "mean   0.536853 -0.379656 -0.563518  0.615759\n",
              "std    1.040870  1.173243  0.625800  0.919456\n",
              "min   -0.211710 -2.077750 -1.037890 -0.242985\n",
              "25%   -0.150052 -0.928871 -0.958929 -0.054457\n",
              "50%    0.053692 -0.470300 -0.685072  0.291631\n",
              "75%    0.863485  0.338155 -0.602512  1.176437\n",
              "max    2.409993  1.214504  0.652133  2.052722"
            ]
          },
          "metadata": {
            "tags": []
          },
          "execution_count": 29
        }
      ]
    },
    {
      "cell_type": "code",
      "metadata": {
        "colab": {
          "base_uri": "https://localhost:8080/",
          "height": 173
        },
        "id": "UFimR23ckA-P",
        "outputId": "4490721d-96df-4830-a861-a27506c58912"
      },
      "source": [
        "df.T #Ordenou por indice"
      ],
      "execution_count": null,
      "outputs": [
        {
          "output_type": "execute_result",
          "data": {
            "text/html": [
              "<div>\n",
              "<style scoped>\n",
              "    .dataframe tbody tr th:only-of-type {\n",
              "        vertical-align: middle;\n",
              "    }\n",
              "\n",
              "    .dataframe tbody tr th {\n",
              "        vertical-align: top;\n",
              "    }\n",
              "\n",
              "    .dataframe thead th {\n",
              "        text-align: right;\n",
              "    }\n",
              "</style>\n",
              "<table border=\"1\" class=\"dataframe\">\n",
              "  <thead>\n",
              "    <tr style=\"text-align: right;\">\n",
              "      <th></th>\n",
              "      <th>2021-01-01</th>\n",
              "      <th>2021-01-02</th>\n",
              "      <th>2021-01-03</th>\n",
              "      <th>2021-01-04</th>\n",
              "      <th>2021-01-05</th>\n",
              "      <th>2021-01-06</th>\n",
              "    </tr>\n",
              "  </thead>\n",
              "  <tbody>\n",
              "    <tr>\n",
              "      <th>A</th>\n",
              "      <td>-0.198790</td>\n",
              "      <td>-0.003839</td>\n",
              "      <td>-0.211710</td>\n",
              "      <td>1.114239</td>\n",
              "      <td>2.409993</td>\n",
              "      <td>0.111223</td>\n",
              "    </tr>\n",
              "    <tr>\n",
              "      <th>B</th>\n",
              "      <td>0.599407</td>\n",
              "      <td>1.214504</td>\n",
              "      <td>-0.445601</td>\n",
              "      <td>-1.073496</td>\n",
              "      <td>-2.077750</td>\n",
              "      <td>-0.494999</td>\n",
              "    </tr>\n",
              "    <tr>\n",
              "      <th>C</th>\n",
              "      <td>0.652133</td>\n",
              "      <td>-0.610201</td>\n",
              "      <td>-0.599949</td>\n",
              "      <td>-0.759942</td>\n",
              "      <td>-1.037890</td>\n",
              "      <td>-1.025259</td>\n",
              "    </tr>\n",
              "    <tr>\n",
              "      <th>D</th>\n",
              "      <td>0.542408</td>\n",
              "      <td>0.040855</td>\n",
              "      <td>1.387780</td>\n",
              "      <td>-0.086227</td>\n",
              "      <td>-0.242985</td>\n",
              "      <td>2.052722</td>\n",
              "    </tr>\n",
              "  </tbody>\n",
              "</table>\n",
              "</div>"
            ],
            "text/plain": [
              "   2021-01-01  2021-01-02  2021-01-03  2021-01-04  2021-01-05  2021-01-06\n",
              "A   -0.198790   -0.003839   -0.211710    1.114239    2.409993    0.111223\n",
              "B    0.599407    1.214504   -0.445601   -1.073496   -2.077750   -0.494999\n",
              "C    0.652133   -0.610201   -0.599949   -0.759942   -1.037890   -1.025259\n",
              "D    0.542408    0.040855    1.387780   -0.086227   -0.242985    2.052722"
            ]
          },
          "metadata": {
            "tags": []
          },
          "execution_count": 30
        }
      ]
    },
    {
      "cell_type": "code",
      "metadata": {
        "colab": {
          "base_uri": "https://localhost:8080/",
          "height": 235
        },
        "id": "LhkEcB3RpP9p",
        "outputId": "8576d4a6-f598-45f2-912e-808949837238"
      },
      "source": [
        "#Sorting by an axis:\n",
        "df.sort_index(axis=1, ascending=False)"
      ],
      "execution_count": null,
      "outputs": [
        {
          "output_type": "execute_result",
          "data": {
            "text/html": [
              "<div>\n",
              "<style scoped>\n",
              "    .dataframe tbody tr th:only-of-type {\n",
              "        vertical-align: middle;\n",
              "    }\n",
              "\n",
              "    .dataframe tbody tr th {\n",
              "        vertical-align: top;\n",
              "    }\n",
              "\n",
              "    .dataframe thead th {\n",
              "        text-align: right;\n",
              "    }\n",
              "</style>\n",
              "<table border=\"1\" class=\"dataframe\">\n",
              "  <thead>\n",
              "    <tr style=\"text-align: right;\">\n",
              "      <th></th>\n",
              "      <th>D</th>\n",
              "      <th>C</th>\n",
              "      <th>B</th>\n",
              "      <th>A</th>\n",
              "    </tr>\n",
              "  </thead>\n",
              "  <tbody>\n",
              "    <tr>\n",
              "      <th>2021-01-01</th>\n",
              "      <td>0.542408</td>\n",
              "      <td>0.652133</td>\n",
              "      <td>0.599407</td>\n",
              "      <td>-0.198790</td>\n",
              "    </tr>\n",
              "    <tr>\n",
              "      <th>2021-01-02</th>\n",
              "      <td>0.040855</td>\n",
              "      <td>-0.610201</td>\n",
              "      <td>1.214504</td>\n",
              "      <td>-0.003839</td>\n",
              "    </tr>\n",
              "    <tr>\n",
              "      <th>2021-01-03</th>\n",
              "      <td>1.387780</td>\n",
              "      <td>-0.599949</td>\n",
              "      <td>-0.445601</td>\n",
              "      <td>-0.211710</td>\n",
              "    </tr>\n",
              "    <tr>\n",
              "      <th>2021-01-04</th>\n",
              "      <td>-0.086227</td>\n",
              "      <td>-0.759942</td>\n",
              "      <td>-1.073496</td>\n",
              "      <td>1.114239</td>\n",
              "    </tr>\n",
              "    <tr>\n",
              "      <th>2021-01-05</th>\n",
              "      <td>-0.242985</td>\n",
              "      <td>-1.037890</td>\n",
              "      <td>-2.077750</td>\n",
              "      <td>2.409993</td>\n",
              "    </tr>\n",
              "    <tr>\n",
              "      <th>2021-01-06</th>\n",
              "      <td>2.052722</td>\n",
              "      <td>-1.025259</td>\n",
              "      <td>-0.494999</td>\n",
              "      <td>0.111223</td>\n",
              "    </tr>\n",
              "  </tbody>\n",
              "</table>\n",
              "</div>"
            ],
            "text/plain": [
              "                   D         C         B         A\n",
              "2021-01-01  0.542408  0.652133  0.599407 -0.198790\n",
              "2021-01-02  0.040855 -0.610201  1.214504 -0.003839\n",
              "2021-01-03  1.387780 -0.599949 -0.445601 -0.211710\n",
              "2021-01-04 -0.086227 -0.759942 -1.073496  1.114239\n",
              "2021-01-05 -0.242985 -1.037890 -2.077750  2.409993\n",
              "2021-01-06  2.052722 -1.025259 -0.494999  0.111223"
            ]
          },
          "metadata": {
            "tags": []
          },
          "execution_count": 31
        }
      ]
    },
    {
      "cell_type": "code",
      "metadata": {
        "colab": {
          "base_uri": "https://localhost:8080/",
          "height": 235
        },
        "id": "mDESxW_NpeMC",
        "outputId": "5c2aba54-78ae-4244-afae-6acb4af0dd48"
      },
      "source": [
        "#Sorting by values:\n",
        "df.sort_values(by=\"B\")"
      ],
      "execution_count": null,
      "outputs": [
        {
          "output_type": "execute_result",
          "data": {
            "text/html": [
              "<div>\n",
              "<style scoped>\n",
              "    .dataframe tbody tr th:only-of-type {\n",
              "        vertical-align: middle;\n",
              "    }\n",
              "\n",
              "    .dataframe tbody tr th {\n",
              "        vertical-align: top;\n",
              "    }\n",
              "\n",
              "    .dataframe thead th {\n",
              "        text-align: right;\n",
              "    }\n",
              "</style>\n",
              "<table border=\"1\" class=\"dataframe\">\n",
              "  <thead>\n",
              "    <tr style=\"text-align: right;\">\n",
              "      <th></th>\n",
              "      <th>A</th>\n",
              "      <th>B</th>\n",
              "      <th>C</th>\n",
              "      <th>D</th>\n",
              "    </tr>\n",
              "  </thead>\n",
              "  <tbody>\n",
              "    <tr>\n",
              "      <th>2021-01-05</th>\n",
              "      <td>2.409993</td>\n",
              "      <td>-2.077750</td>\n",
              "      <td>-1.037890</td>\n",
              "      <td>-0.242985</td>\n",
              "    </tr>\n",
              "    <tr>\n",
              "      <th>2021-01-04</th>\n",
              "      <td>1.114239</td>\n",
              "      <td>-1.073496</td>\n",
              "      <td>-0.759942</td>\n",
              "      <td>-0.086227</td>\n",
              "    </tr>\n",
              "    <tr>\n",
              "      <th>2021-01-06</th>\n",
              "      <td>0.111223</td>\n",
              "      <td>-0.494999</td>\n",
              "      <td>-1.025259</td>\n",
              "      <td>2.052722</td>\n",
              "    </tr>\n",
              "    <tr>\n",
              "      <th>2021-01-03</th>\n",
              "      <td>-0.211710</td>\n",
              "      <td>-0.445601</td>\n",
              "      <td>-0.599949</td>\n",
              "      <td>1.387780</td>\n",
              "    </tr>\n",
              "    <tr>\n",
              "      <th>2021-01-01</th>\n",
              "      <td>-0.198790</td>\n",
              "      <td>0.599407</td>\n",
              "      <td>0.652133</td>\n",
              "      <td>0.542408</td>\n",
              "    </tr>\n",
              "    <tr>\n",
              "      <th>2021-01-02</th>\n",
              "      <td>-0.003839</td>\n",
              "      <td>1.214504</td>\n",
              "      <td>-0.610201</td>\n",
              "      <td>0.040855</td>\n",
              "    </tr>\n",
              "  </tbody>\n",
              "</table>\n",
              "</div>"
            ],
            "text/plain": [
              "                   A         B         C         D\n",
              "2021-01-05  2.409993 -2.077750 -1.037890 -0.242985\n",
              "2021-01-04  1.114239 -1.073496 -0.759942 -0.086227\n",
              "2021-01-06  0.111223 -0.494999 -1.025259  2.052722\n",
              "2021-01-03 -0.211710 -0.445601 -0.599949  1.387780\n",
              "2021-01-01 -0.198790  0.599407  0.652133  0.542408\n",
              "2021-01-02 -0.003839  1.214504 -0.610201  0.040855"
            ]
          },
          "metadata": {
            "tags": []
          },
          "execution_count": 32
        }
      ]
    }
  ]
}